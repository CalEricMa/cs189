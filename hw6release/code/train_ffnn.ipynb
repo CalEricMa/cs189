{
 "cells": [
  {
   "cell_type": "code",
   "execution_count": 3,
   "id": "aa4b4ed8",
   "metadata": {},
   "outputs": [
    {
     "name": "stdout",
     "output_type": "stream",
     "text": [
      "Training feed_forward neural network on iris with SGD for 100 epochs...\n",
      "Optimizer:\n",
      "{'name': 'SGD', 'lr': 0.01, 'lr_scheduler': 'constant', 'lr_decay': 0.99, 'stage_length': 1000, 'staircase': True, 'clip_norm': 1.0, 'momentum': 0.9}\n"
     ]
    },
    {
     "name": "stderr",
     "output_type": "stream",
     "text": [
      "100%|██████████| 5/5 [00:00<00:00, 2488.61it/s]\n"
     ]
    },
    {
     "name": "stdout",
     "output_type": "stream",
     "text": [
      "Example target: [1. 0. 0.]\n",
      "Example prediction: [np.float64(0.1453), np.float64(0.7766), np.float64(0.0781)]\n",
      "Epoch 0 Training Loss: 2.9326 Training Accuracy: 0.12 Val Loss: 1.7211 Val Accuracy: 0.0\n"
     ]
    },
    {
     "name": "stderr",
     "output_type": "stream",
     "text": [
      "100%|██████████| 5/5 [00:00<00:00, 3313.04it/s]\n"
     ]
    },
    {
     "name": "stdout",
     "output_type": "stream",
     "text": [
      "Example target: [0. 1. 0.]\n",
      "Example prediction: [np.float64(0.057), np.float64(0.3665), np.float64(0.5766)]\n",
      "Epoch 1 Training Loss: 1.4223 Training Accuracy: 0.28 Val Loss: 2.1051 Val Accuracy: 0.2667\n"
     ]
    },
    {
     "name": "stderr",
     "output_type": "stream",
     "text": [
      "100%|██████████| 5/5 [00:00<00:00, 4988.47it/s]\n"
     ]
    },
    {
     "name": "stdout",
     "output_type": "stream",
     "text": [
      "Example target: [0. 0. 1.]\n",
      "Example prediction: [np.float64(0.0498), np.float64(0.2785), np.float64(0.6716)]\n",
      "Epoch 2 Training Loss: 1.4246 Training Accuracy: 0.424 Val Loss: 1.5099 Val Accuracy: 0.2667\n"
     ]
    },
    {
     "name": "stderr",
     "output_type": "stream",
     "text": [
      "100%|██████████| 5/5 [00:00<00:00, 2498.99it/s]\n"
     ]
    },
    {
     "name": "stdout",
     "output_type": "stream",
     "text": [
      "Example target: [0. 0. 1.]\n",
      "Example prediction: [np.float64(0.2623), np.float64(0.3349), np.float64(0.4028)]\n",
      "Epoch 3 Training Loss: 1.0357 Training Accuracy: 0.424 Val Loss: 0.7874 Val Accuracy: 0.8\n"
     ]
    },
    {
     "name": "stderr",
     "output_type": "stream",
     "text": [
      "100%|██████████| 5/5 [00:00<00:00, 2497.50it/s]\n"
     ]
    },
    {
     "name": "stdout",
     "output_type": "stream",
     "text": [
      "Example target: [0. 0. 1.]\n",
      "Example prediction: [np.float64(0.1226), np.float64(0.2954), np.float64(0.582)]\n",
      "Epoch 4 Training Loss: 0.8705 Training Accuracy: 0.6 Val Loss: 0.6017 Val Accuracy: 0.8\n"
     ]
    },
    {
     "name": "stderr",
     "output_type": "stream",
     "text": [
      "100%|██████████| 5/5 [00:00<00:00, 4995.60it/s]\n"
     ]
    },
    {
     "name": "stdout",
     "output_type": "stream",
     "text": [
      "Example target: [1. 0. 0.]\n",
      "Example prediction: [np.float64(0.5831), np.float64(0.3055), np.float64(0.1114)]\n",
      "Epoch 5 Training Loss: 0.6696 Training Accuracy: 0.736 Val Loss: 0.524 Val Accuracy: 0.8667\n"
     ]
    },
    {
     "name": "stderr",
     "output_type": "stream",
     "text": [
      "100%|██████████| 5/5 [00:00<00:00, 1989.52it/s]\n"
     ]
    },
    {
     "name": "stdout",
     "output_type": "stream",
     "text": [
      "Example target: [1. 0. 0.]\n",
      "Example prediction: [np.float64(0.9144), np.float64(0.0695), np.float64(0.0161)]\n",
      "Epoch 6 Training Loss: 0.606 Training Accuracy: 0.704 Val Loss: 0.3819 Val Accuracy: 0.8\n"
     ]
    },
    {
     "name": "stderr",
     "output_type": "stream",
     "text": [
      "100%|██████████| 5/5 [00:00<00:00, 5003.94it/s]\n"
     ]
    },
    {
     "name": "stdout",
     "output_type": "stream",
     "text": [
      "Example target: [1. 0. 0.]\n",
      "Example prediction: [np.float64(0.9038), np.float64(0.0688), np.float64(0.0273)]\n",
      "Epoch 7 Training Loss: 0.5547 Training Accuracy: 0.68 Val Loss: 0.3389 Val Accuracy: 0.8\n"
     ]
    },
    {
     "name": "stderr",
     "output_type": "stream",
     "text": [
      "100%|██████████| 5/5 [00:00<00:00, 2497.80it/s]\n"
     ]
    },
    {
     "name": "stdout",
     "output_type": "stream",
     "text": [
      "Example target: [0. 1. 0.]\n",
      "Example prediction: [np.float64(0.1196), np.float64(0.5975), np.float64(0.2828)]\n",
      "Epoch 8 Training Loss: 0.5606 Training Accuracy: 0.632 Val Loss: 0.3569 Val Accuracy: 0.8\n"
     ]
    },
    {
     "name": "stderr",
     "output_type": "stream",
     "text": [
      "100%|██████████| 5/5 [00:00<00:00, 4996.79it/s]\n"
     ]
    },
    {
     "name": "stdout",
     "output_type": "stream",
     "text": [
      "Example target: [0. 1. 0.]\n",
      "Example prediction: [np.float64(0.082), np.float64(0.4277), np.float64(0.4903)]\n",
      "Epoch 9 Training Loss: 0.524 Training Accuracy: 0.712 Val Loss: 0.2853 Val Accuracy: 0.8\n"
     ]
    },
    {
     "name": "stderr",
     "output_type": "stream",
     "text": [
      "100%|██████████| 5/5 [00:00<00:00, 2500.78it/s]\n"
     ]
    },
    {
     "name": "stdout",
     "output_type": "stream",
     "text": [
      "Example target: [0. 0. 1.]\n",
      "Example prediction: [np.float64(0.0069), np.float64(0.6547), np.float64(0.3384)]\n",
      "Epoch 10 Training Loss: 0.4134 Training Accuracy: 0.776 Val Loss: 0.3678 Val Accuracy: 0.7333\n"
     ]
    },
    {
     "name": "stderr",
     "output_type": "stream",
     "text": [
      "100%|██████████| 5/5 [00:00<00:00, 4996.79it/s]\n"
     ]
    },
    {
     "name": "stdout",
     "output_type": "stream",
     "text": [
      "Example target: [0. 0. 1.]\n",
      "Example prediction: [np.float64(0.0017), np.float64(0.1787), np.float64(0.8196)]\n",
      "Epoch 11 Training Loss: 0.4498 Training Accuracy: 0.76 Val Loss: 0.2462 Val Accuracy: 0.8\n"
     ]
    },
    {
     "name": "stderr",
     "output_type": "stream",
     "text": [
      "100%|██████████| 5/5 [00:00<00:00, 4993.22it/s]\n"
     ]
    },
    {
     "name": "stdout",
     "output_type": "stream",
     "text": [
      "Example target: [1. 0. 0.]\n",
      "Example prediction: [np.float64(0.9293), np.float64(0.0619), np.float64(0.0087)]\n",
      "Epoch 12 Training Loss: 0.5363 Training Accuracy: 0.648 Val Loss: 0.226 Val Accuracy: 0.8667\n"
     ]
    },
    {
     "name": "stderr",
     "output_type": "stream",
     "text": [
      "100%|██████████| 5/5 [00:00<00:00, 4994.41it/s]\n"
     ]
    },
    {
     "name": "stdout",
     "output_type": "stream",
     "text": [
      "Example target: [0. 0. 1.]\n",
      "Example prediction: [np.float64(0.0074), np.float64(0.6751), np.float64(0.3175)]\n",
      "Epoch 13 Training Loss: 0.3796 Training Accuracy: 0.816 Val Loss: 0.3382 Val Accuracy: 0.7333\n"
     ]
    },
    {
     "name": "stderr",
     "output_type": "stream",
     "text": [
      "100%|██████████| 5/5 [00:00<00:00, 2507.06it/s]\n"
     ]
    },
    {
     "name": "stdout",
     "output_type": "stream",
     "text": [
      "Example target: [0. 0. 1.]\n",
      "Example prediction: [np.float64(0.0013), np.float64(0.1625), np.float64(0.8362)]\n",
      "Epoch 14 Training Loss: 0.4166 Training Accuracy: 0.76 Val Loss: 0.1938 Val Accuracy: 1.0\n"
     ]
    },
    {
     "name": "stderr",
     "output_type": "stream",
     "text": [
      "100%|██████████| 5/5 [00:00<00:00, 5003.94it/s]\n"
     ]
    },
    {
     "name": "stdout",
     "output_type": "stream",
     "text": [
      "Example target: [1. 0. 0.]\n",
      "Example prediction: [np.float64(0.9079), np.float64(0.089), np.float64(0.0031)]\n",
      "Epoch 15 Training Loss: 0.3446 Training Accuracy: 0.904 Val Loss: 0.1934 Val Accuracy: 1.0\n"
     ]
    },
    {
     "name": "stderr",
     "output_type": "stream",
     "text": [
      "100%|██████████| 5/5 [00:00<00:00, 4992.03it/s]\n"
     ]
    },
    {
     "name": "stdout",
     "output_type": "stream",
     "text": [
      "Example target: [1. 0. 0.]\n",
      "Example prediction: [np.float64(0.953), np.float64(0.0462), np.float64(0.0008)]\n",
      "Epoch 16 Training Loss: 0.286 Training Accuracy: 0.96 Val Loss: 0.1829 Val Accuracy: 1.0\n"
     ]
    },
    {
     "name": "stderr",
     "output_type": "stream",
     "text": [
      "100%|██████████| 5/5 [00:00<00:00, 1665.20it/s]\n"
     ]
    },
    {
     "name": "stdout",
     "output_type": "stream",
     "text": [
      "Example target: [0. 0. 1.]\n",
      "Example prediction: [np.float64(0.0007), np.float64(0.1314), np.float64(0.8679)]\n",
      "Epoch 17 Training Loss: 0.2576 Training Accuracy: 0.968 Val Loss: 0.1515 Val Accuracy: 1.0\n"
     ]
    },
    {
     "name": "stderr",
     "output_type": "stream",
     "text": [
      "100%|██████████| 5/5 [00:00<00:00, 2499.29it/s]\n"
     ]
    },
    {
     "name": "stdout",
     "output_type": "stream",
     "text": [
      "Example target: [1. 0. 0.]\n",
      "Example prediction: [np.float64(0.9937), np.float64(0.0063), np.float64(0.0)]\n",
      "Epoch 18 Training Loss: 0.2771 Training Accuracy: 0.944 Val Loss: 0.1873 Val Accuracy: 1.0\n"
     ]
    },
    {
     "name": "stderr",
     "output_type": "stream",
     "text": [
      "100%|██████████| 5/5 [00:00<00:00, 2498.99it/s]\n"
     ]
    },
    {
     "name": "stdout",
     "output_type": "stream",
     "text": [
      "Example target: [1. 0. 0.]\n",
      "Example prediction: [np.float64(0.9658), np.float64(0.034), np.float64(0.0002)]\n",
      "Epoch 19 Training Loss: 0.2637 Training Accuracy: 0.952 Val Loss: 0.1274 Val Accuracy: 1.0\n"
     ]
    },
    {
     "name": "stderr",
     "output_type": "stream",
     "text": [
      "100%|██████████| 5/5 [00:00<00:00, 2499.88it/s]\n"
     ]
    },
    {
     "name": "stdout",
     "output_type": "stream",
     "text": [
      "Example target: [1. 0. 0.]\n",
      "Example prediction: [np.float64(0.9936), np.float64(0.0064), np.float64(0.0)]\n",
      "Epoch 20 Training Loss: 0.239 Training Accuracy: 0.968 Val Loss: 0.1443 Val Accuracy: 1.0\n"
     ]
    },
    {
     "name": "stderr",
     "output_type": "stream",
     "text": [
      "100%|██████████| 5/5 [00:00<00:00, 2498.69it/s]\n"
     ]
    },
    {
     "name": "stdout",
     "output_type": "stream",
     "text": [
      "Example target: [1. 0. 0.]\n",
      "Example prediction: [np.float64(0.9363), np.float64(0.0634), np.float64(0.0003)]\n",
      "Epoch 21 Training Loss: 0.2868 Training Accuracy: 0.936 Val Loss: 0.1074 Val Accuracy: 1.0\n"
     ]
    },
    {
     "name": "stderr",
     "output_type": "stream",
     "text": [
      "100%|██████████| 5/5 [00:00<00:00, 5001.55it/s]\n"
     ]
    },
    {
     "name": "stdout",
     "output_type": "stream",
     "text": [
      "Example target: [1. 0. 0.]\n",
      "Example prediction: [np.float64(0.9383), np.float64(0.0615), np.float64(0.0001)]\n",
      "Epoch 22 Training Loss: 0.2096 Training Accuracy: 0.952 Val Loss: 0.1163 Val Accuracy: 1.0\n"
     ]
    },
    {
     "name": "stderr",
     "output_type": "stream",
     "text": [
      "100%|██████████| 5/5 [00:00<00:00, 2498.69it/s]\n"
     ]
    },
    {
     "name": "stdout",
     "output_type": "stream",
     "text": [
      "Example target: [1. 0. 0.]\n",
      "Example prediction: [np.float64(0.9401), np.float64(0.0598), np.float64(0.0001)]\n",
      "Epoch 23 Training Loss: 0.214 Training Accuracy: 0.976 Val Loss: 0.102 Val Accuracy: 1.0\n"
     ]
    },
    {
     "name": "stderr",
     "output_type": "stream",
     "text": [
      "100%|██████████| 5/5 [00:00<00:00, 5001.55it/s]\n"
     ]
    },
    {
     "name": "stdout",
     "output_type": "stream",
     "text": [
      "Example target: [1. 0. 0.]\n",
      "Example prediction: [np.float64(0.971), np.float64(0.029), np.float64(0.0)]\n",
      "Epoch 24 Training Loss: 0.2417 Training Accuracy: 0.888 Val Loss: 0.0982 Val Accuracy: 1.0\n"
     ]
    },
    {
     "name": "stderr",
     "output_type": "stream",
     "text": [
      "100%|██████████| 5/5 [00:00<00:00, 5002.75it/s]\n"
     ]
    },
    {
     "name": "stdout",
     "output_type": "stream",
     "text": [
      "Example target: [0. 1. 0.]\n",
      "Example prediction: [np.float64(0.0561), np.float64(0.8455), np.float64(0.0984)]\n",
      "Epoch 25 Training Loss: 0.1957 Training Accuracy: 0.976 Val Loss: 0.09 Val Accuracy: 1.0\n"
     ]
    },
    {
     "name": "stderr",
     "output_type": "stream",
     "text": [
      "100%|██████████| 5/5 [00:00<00:00, 2497.80it/s]\n"
     ]
    },
    {
     "name": "stdout",
     "output_type": "stream",
     "text": [
      "Example target: [0. 0. 1.]\n",
      "Example prediction: [np.float64(0.0003), np.float64(0.1515), np.float64(0.8482)]\n",
      "Epoch 26 Training Loss: 0.1638 Training Accuracy: 0.976 Val Loss: 0.0877 Val Accuracy: 1.0\n"
     ]
    },
    {
     "name": "stderr",
     "output_type": "stream",
     "text": [
      "100%|██████████| 5/5 [00:00<00:00, 2497.20it/s]\n"
     ]
    },
    {
     "name": "stdout",
     "output_type": "stream",
     "text": [
      "Example target: [1. 0. 0.]\n",
      "Example prediction: [np.float64(0.974), np.float64(0.026), np.float64(0.0)]\n",
      "Epoch 27 Training Loss: 0.1521 Training Accuracy: 0.976 Val Loss: 0.0743 Val Accuracy: 1.0\n"
     ]
    },
    {
     "name": "stderr",
     "output_type": "stream",
     "text": [
      "100%|██████████| 5/5 [00:00<00:00, 4996.79it/s]\n"
     ]
    },
    {
     "name": "stdout",
     "output_type": "stream",
     "text": [
      "Example target: [1. 0. 0.]\n",
      "Example prediction: [np.float64(0.996), np.float64(0.004), np.float64(0.0)]\n",
      "Epoch 28 Training Loss: 0.1682 Training Accuracy: 0.944 Val Loss: 0.09 Val Accuracy: 1.0\n"
     ]
    },
    {
     "name": "stderr",
     "output_type": "stream",
     "text": [
      "100%|██████████| 5/5 [00:00<00:00, 4995.60it/s]\n"
     ]
    },
    {
     "name": "stdout",
     "output_type": "stream",
     "text": [
      "Example target: [1. 0. 0.]\n",
      "Example prediction: [np.float64(0.996), np.float64(0.004), np.float64(0.0)]\n",
      "Epoch 29 Training Loss: 0.154 Training Accuracy: 0.968 Val Loss: 0.0602 Val Accuracy: 1.0\n"
     ]
    },
    {
     "name": "stderr",
     "output_type": "stream",
     "text": [
      "100%|██████████| 5/5 [00:00<00:00, 2499.88it/s]\n"
     ]
    },
    {
     "name": "stdout",
     "output_type": "stream",
     "text": [
      "Example target: [1. 0. 0.]\n",
      "Example prediction: [np.float64(0.9964), np.float64(0.0036), np.float64(0.0)]\n",
      "Epoch 30 Training Loss: 0.1377 Training Accuracy: 0.968 Val Loss: 0.0766 Val Accuracy: 1.0\n"
     ]
    },
    {
     "name": "stderr",
     "output_type": "stream",
     "text": [
      "100%|██████████| 5/5 [00:00<00:00, 2498.69it/s]\n"
     ]
    },
    {
     "name": "stdout",
     "output_type": "stream",
     "text": [
      "Example target: [1. 0. 0.]\n",
      "Example prediction: [np.float64(0.9971), np.float64(0.0029), np.float64(0.0)]\n",
      "Epoch 31 Training Loss: 0.1303 Training Accuracy: 0.984 Val Loss: 0.0564 Val Accuracy: 1.0\n"
     ]
    },
    {
     "name": "stderr",
     "output_type": "stream",
     "text": [
      "100%|██████████| 5/5 [00:00<00:00, 5003.94it/s]\n"
     ]
    },
    {
     "name": "stdout",
     "output_type": "stream",
     "text": [
      "Example target: [0. 1. 0.]\n",
      "Example prediction: [np.float64(0.0416), np.float64(0.9106), np.float64(0.0478)]\n",
      "Epoch 32 Training Loss: 0.1568 Training Accuracy: 0.984 Val Loss: 0.0707 Val Accuracy: 1.0\n"
     ]
    },
    {
     "name": "stderr",
     "output_type": "stream",
     "text": [
      "100%|██████████| 5/5 [00:00<00:00, 2499.59it/s]\n"
     ]
    },
    {
     "name": "stdout",
     "output_type": "stream",
     "text": [
      "Example target: [0. 1. 0.]\n",
      "Example prediction: [np.float64(0.0404), np.float64(0.9012), np.float64(0.0584)]\n",
      "Epoch 33 Training Loss: 0.1608 Training Accuracy: 0.944 Val Loss: 0.0508 Val Accuracy: 1.0\n"
     ]
    },
    {
     "name": "stderr",
     "output_type": "stream",
     "text": [
      "100%|██████████| 5/5 [00:00<00:00, 2499.29it/s]\n"
     ]
    },
    {
     "name": "stdout",
     "output_type": "stream",
     "text": [
      "Example target: [1. 0. 0.]\n",
      "Example prediction: [np.float64(0.9973), np.float64(0.0027), np.float64(0.0)]\n",
      "Epoch 34 Training Loss: 0.133 Training Accuracy: 0.984 Val Loss: 0.0529 Val Accuracy: 1.0\n"
     ]
    },
    {
     "name": "stderr",
     "output_type": "stream",
     "text": [
      "100%|██████████| 5/5 [00:00<00:00, 2491.57it/s]\n"
     ]
    },
    {
     "name": "stdout",
     "output_type": "stream",
     "text": [
      "Example target: [0. 0. 1.]\n",
      "Example prediction: [np.float64(0.0005), np.float64(0.2898), np.float64(0.7097)]\n",
      "Epoch 35 Training Loss: 0.1185 Training Accuracy: 0.984 Val Loss: 0.0634 Val Accuracy: 1.0\n"
     ]
    },
    {
     "name": "stderr",
     "output_type": "stream",
     "text": [
      "100%|██████████| 5/5 [00:00<00:00, 2490.68it/s]\n"
     ]
    },
    {
     "name": "stdout",
     "output_type": "stream",
     "text": [
      "Example target: [0. 1. 0.]\n",
      "Example prediction: [np.float64(0.0119), np.float64(0.9672), np.float64(0.0209)]\n",
      "Epoch 36 Training Loss: 0.1568 Training Accuracy: 0.936 Val Loss: 0.0474 Val Accuracy: 1.0\n"
     ]
    },
    {
     "name": "stderr",
     "output_type": "stream",
     "text": [
      "100%|██████████| 5/5 [00:00<00:00, 2500.48it/s]\n"
     ]
    },
    {
     "name": "stdout",
     "output_type": "stream",
     "text": [
      "Example target: [1. 0. 0.]\n",
      "Example prediction: [np.float64(0.9979), np.float64(0.0021), np.float64(0.0)]\n",
      "Epoch 37 Training Loss: 0.1093 Training Accuracy: 0.984 Val Loss: 0.0655 Val Accuracy: 1.0\n"
     ]
    },
    {
     "name": "stderr",
     "output_type": "stream",
     "text": [
      "100%|██████████| 5/5 [00:00<00:00, 2499.29it/s]\n"
     ]
    },
    {
     "name": "stdout",
     "output_type": "stream",
     "text": [
      "Example target: [1. 0. 0.]\n",
      "Example prediction: [np.float64(0.9883), np.float64(0.0117), np.float64(0.0)]\n",
      "Epoch 38 Training Loss: 0.1254 Training Accuracy: 0.968 Val Loss: 0.0349 Val Accuracy: 1.0\n"
     ]
    },
    {
     "name": "stderr",
     "output_type": "stream",
     "text": [
      "100%|██████████| 5/5 [00:00<00:00, 4993.22it/s]\n"
     ]
    },
    {
     "name": "stdout",
     "output_type": "stream",
     "text": [
      "Example target: [0. 0. 1.]\n",
      "Example prediction: [np.float64(0.0004), np.float64(0.2867), np.float64(0.7129)]\n",
      "Epoch 39 Training Loss: 0.1494 Training Accuracy: 0.976 Val Loss: 0.0572 Val Accuracy: 1.0\n"
     ]
    },
    {
     "name": "stderr",
     "output_type": "stream",
     "text": [
      "100%|██████████| 5/5 [00:00<00:00, 2500.18it/s]\n"
     ]
    },
    {
     "name": "stdout",
     "output_type": "stream",
     "text": [
      "Example target: [1. 0. 0.]\n",
      "Example prediction: [np.float64(0.9983), np.float64(0.0017), np.float64(0.0)]\n",
      "Epoch 40 Training Loss: 0.1415 Training Accuracy: 0.944 Val Loss: 0.0416 Val Accuracy: 1.0\n"
     ]
    },
    {
     "name": "stderr",
     "output_type": "stream",
     "text": [
      "100%|██████████| 5/5 [00:00<00:00, 4996.79it/s]\n"
     ]
    },
    {
     "name": "stdout",
     "output_type": "stream",
     "text": [
      "Example target: [1. 0. 0.]\n",
      "Example prediction: [np.float64(0.9985), np.float64(0.0015), np.float64(0.0)]\n",
      "Epoch 41 Training Loss: 0.1071 Training Accuracy: 0.984 Val Loss: 0.0336 Val Accuracy: 1.0\n"
     ]
    },
    {
     "name": "stderr",
     "output_type": "stream",
     "text": [
      "100%|██████████| 5/5 [00:00<00:00, 4989.66it/s]\n"
     ]
    },
    {
     "name": "stdout",
     "output_type": "stream",
     "text": [
      "Example target: [0. 0. 1.]\n",
      "Example prediction: [np.float64(0.0), np.float64(0.044), np.float64(0.9559)]\n",
      "Epoch 42 Training Loss: 0.108 Training Accuracy: 0.984 Val Loss: 0.0373 Val Accuracy: 1.0\n"
     ]
    },
    {
     "name": "stderr",
     "output_type": "stream",
     "text": [
      "100%|██████████| 5/5 [00:00<00:00, 4996.79it/s]\n"
     ]
    },
    {
     "name": "stdout",
     "output_type": "stream",
     "text": [
      "Example target: [1. 0. 0.]\n",
      "Example prediction: [np.float64(0.9983), np.float64(0.0017), np.float64(0.0)]\n",
      "Epoch 43 Training Loss: 0.1026 Training Accuracy: 0.984 Val Loss: 0.0455 Val Accuracy: 1.0\n"
     ]
    },
    {
     "name": "stderr",
     "output_type": "stream",
     "text": [
      "100%|██████████| 5/5 [00:00<00:00, 4995.60it/s]\n"
     ]
    },
    {
     "name": "stdout",
     "output_type": "stream",
     "text": [
      "Example target: [1. 0. 0.]\n",
      "Example prediction: [np.float64(0.98), np.float64(0.02), np.float64(0.0)]\n",
      "Epoch 44 Training Loss: 0.0922 Training Accuracy: 0.976 Val Loss: 0.0297 Val Accuracy: 1.0\n"
     ]
    },
    {
     "name": "stderr",
     "output_type": "stream",
     "text": [
      "100%|██████████| 5/5 [00:00<00:00, 2500.18it/s]\n"
     ]
    },
    {
     "name": "stdout",
     "output_type": "stream",
     "text": [
      "Example target: [0. 1. 0.]\n",
      "Example prediction: [np.float64(0.03), np.float64(0.9511), np.float64(0.019)]\n",
      "Epoch 45 Training Loss: 0.1514 Training Accuracy: 0.944 Val Loss: 0.0477 Val Accuracy: 1.0\n"
     ]
    },
    {
     "name": "stderr",
     "output_type": "stream",
     "text": [
      "100%|██████████| 5/5 [00:00<00:00, 1666.52it/s]\n"
     ]
    },
    {
     "name": "stdout",
     "output_type": "stream",
     "text": [
      "Example target: [1. 0. 0.]\n",
      "Example prediction: [np.float64(0.9984), np.float64(0.0016), np.float64(0.0)]\n",
      "Epoch 46 Training Loss: 0.1384 Training Accuracy: 0.936 Val Loss: 0.0455 Val Accuracy: 1.0\n"
     ]
    },
    {
     "name": "stderr",
     "output_type": "stream",
     "text": [
      "100%|██████████| 5/5 [00:00<00:00, 5006.33it/s]\n"
     ]
    },
    {
     "name": "stdout",
     "output_type": "stream",
     "text": [
      "Example target: [1. 0. 0.]\n",
      "Example prediction: [np.float64(0.9986), np.float64(0.0014), np.float64(0.0)]\n",
      "Epoch 47 Training Loss: 0.0845 Training Accuracy: 0.976 Val Loss: 0.0243 Val Accuracy: 1.0\n"
     ]
    },
    {
     "name": "stderr",
     "output_type": "stream",
     "text": [
      "100%|██████████| 5/5 [00:00<00:00, 2500.18it/s]\n"
     ]
    },
    {
     "name": "stdout",
     "output_type": "stream",
     "text": [
      "Example target: [1. 0. 0.]\n",
      "Example prediction: [np.float64(0.9889), np.float64(0.0111), np.float64(0.0)]\n",
      "Epoch 48 Training Loss: 0.0962 Training Accuracy: 0.984 Val Loss: 0.0402 Val Accuracy: 1.0\n"
     ]
    },
    {
     "name": "stderr",
     "output_type": "stream",
     "text": [
      "100%|██████████| 5/5 [00:00<00:00, 2499.29it/s]\n"
     ]
    },
    {
     "name": "stdout",
     "output_type": "stream",
     "text": [
      "Example target: [1. 0. 0.]\n",
      "Example prediction: [np.float64(0.9913), np.float64(0.0087), np.float64(0.0)]\n",
      "Epoch 49 Training Loss: 0.1022 Training Accuracy: 0.952 Val Loss: 0.0345 Val Accuracy: 1.0\n"
     ]
    },
    {
     "name": "stderr",
     "output_type": "stream",
     "text": [
      "100%|██████████| 5/5 [00:00<00:00, 2496.91it/s]\n"
     ]
    },
    {
     "name": "stdout",
     "output_type": "stream",
     "text": [
      "Example target: [0. 0. 1.]\n",
      "Example prediction: [np.float64(0.0), np.float64(0.0418), np.float64(0.9582)]\n",
      "Epoch 50 Training Loss: 0.1391 Training Accuracy: 0.944 Val Loss: 0.0316 Val Accuracy: 1.0\n"
     ]
    },
    {
     "name": "stderr",
     "output_type": "stream",
     "text": [
      "100%|██████████| 5/5 [00:00<00:00, 4990.84it/s]\n"
     ]
    },
    {
     "name": "stdout",
     "output_type": "stream",
     "text": [
      "Example target: [0. 0. 1.]\n",
      "Example prediction: [np.float64(0.0), np.float64(0.0473), np.float64(0.9527)]\n",
      "Epoch 51 Training Loss: 0.0904 Training Accuracy: 0.96 Val Loss: 0.0337 Val Accuracy: 1.0\n"
     ]
    },
    {
     "name": "stderr",
     "output_type": "stream",
     "text": [
      "100%|██████████| 5/5 [00:00<00:00, 5008.72it/s]\n"
     ]
    },
    {
     "name": "stdout",
     "output_type": "stream",
     "text": [
      "Example target: [1. 0. 0.]\n",
      "Example prediction: [np.float64(0.9916), np.float64(0.0084), np.float64(0.0)]\n",
      "Epoch 52 Training Loss: 0.1125 Training Accuracy: 0.976 Val Loss: 0.0276 Val Accuracy: 1.0\n"
     ]
    },
    {
     "name": "stderr",
     "output_type": "stream",
     "text": [
      "100%|██████████| 5/5 [00:00<00:00, 4994.41it/s]\n"
     ]
    },
    {
     "name": "stdout",
     "output_type": "stream",
     "text": [
      "Example target: [1. 0. 0.]\n",
      "Example prediction: [np.float64(0.9886), np.float64(0.0114), np.float64(0.0)]\n",
      "Epoch 53 Training Loss: 0.117 Training Accuracy: 0.936 Val Loss: 0.038 Val Accuracy: 1.0\n"
     ]
    },
    {
     "name": "stderr",
     "output_type": "stream",
     "text": [
      "100%|██████████| 5/5 [00:00<00:00, 2498.99it/s]\n"
     ]
    },
    {
     "name": "stdout",
     "output_type": "stream",
     "text": [
      "Example target: [1. 0. 0.]\n",
      "Example prediction: [np.float64(0.9988), np.float64(0.0012), np.float64(0.0)]\n",
      "Epoch 54 Training Loss: 0.074 Training Accuracy: 0.984 Val Loss: 0.0202 Val Accuracy: 1.0\n"
     ]
    },
    {
     "name": "stderr",
     "output_type": "stream",
     "text": [
      "100%|██████████| 5/5 [00:00<00:00, 5001.55it/s]\n"
     ]
    },
    {
     "name": "stdout",
     "output_type": "stream",
     "text": [
      "Example target: [1. 0. 0.]\n",
      "Example prediction: [np.float64(0.9991), np.float64(0.0009), np.float64(0.0)]\n",
      "Epoch 55 Training Loss: 0.0901 Training Accuracy: 0.976 Val Loss: 0.0323 Val Accuracy: 1.0\n"
     ]
    },
    {
     "name": "stderr",
     "output_type": "stream",
     "text": [
      "100%|██████████| 5/5 [00:00<00:00, 5011.12it/s]\n"
     ]
    },
    {
     "name": "stdout",
     "output_type": "stream",
     "text": [
      "Example target: [0. 0. 1.]\n",
      "Example prediction: [np.float64(0.0), np.float64(0.0173), np.float64(0.9827)]\n",
      "Epoch 56 Training Loss: 0.0818 Training Accuracy: 0.984 Val Loss: 0.0212 Val Accuracy: 1.0\n"
     ]
    },
    {
     "name": "stderr",
     "output_type": "stream",
     "text": [
      "100%|██████████| 5/5 [00:00<00:00, 4996.79it/s]\n"
     ]
    },
    {
     "name": "stdout",
     "output_type": "stream",
     "text": [
      "Example target: [1. 0. 0.]\n",
      "Example prediction: [np.float64(0.9916), np.float64(0.0084), np.float64(0.0)]\n",
      "Epoch 57 Training Loss: 0.0755 Training Accuracy: 0.984 Val Loss: 0.041 Val Accuracy: 1.0\n"
     ]
    },
    {
     "name": "stderr",
     "output_type": "stream",
     "text": [
      "100%|██████████| 5/5 [00:00<00:00, 2496.31it/s]\n"
     ]
    },
    {
     "name": "stdout",
     "output_type": "stream",
     "text": [
      "Example target: [0. 0. 1.]\n",
      "Example prediction: [np.float64(0.0), np.float64(0.0285), np.float64(0.9715)]\n",
      "Epoch 58 Training Loss: 0.0938 Training Accuracy: 0.976 Val Loss: 0.0235 Val Accuracy: 1.0\n"
     ]
    },
    {
     "name": "stderr",
     "output_type": "stream",
     "text": [
      "100%|██████████| 5/5 [00:00<00:00, 4993.22it/s]\n"
     ]
    },
    {
     "name": "stdout",
     "output_type": "stream",
     "text": [
      "Example target: [0. 0. 1.]\n",
      "Example prediction: [np.float64(0.0), np.float64(0.0607), np.float64(0.9393)]\n",
      "Epoch 59 Training Loss: 0.1118 Training Accuracy: 0.952 Val Loss: 0.039 Val Accuracy: 1.0\n"
     ]
    },
    {
     "name": "stderr",
     "output_type": "stream",
     "text": [
      "100%|██████████| 5/5 [00:00<00:00, 2498.99it/s]\n"
     ]
    },
    {
     "name": "stdout",
     "output_type": "stream",
     "text": [
      "Example target: [1. 0. 0.]\n",
      "Example prediction: [np.float64(0.9974), np.float64(0.0026), np.float64(0.0)]\n",
      "Epoch 60 Training Loss: 0.1418 Training Accuracy: 0.92 Val Loss: 0.0369 Val Accuracy: 1.0\n"
     ]
    },
    {
     "name": "stderr",
     "output_type": "stream",
     "text": [
      "100%|██████████| 5/5 [00:00<00:00, 4996.79it/s]\n"
     ]
    },
    {
     "name": "stdout",
     "output_type": "stream",
     "text": [
      "Example target: [0. 1. 0.]\n",
      "Example prediction: [np.float64(0.0199), np.float64(0.9612), np.float64(0.0189)]\n",
      "Epoch 61 Training Loss: 0.097 Training Accuracy: 0.968 Val Loss: 0.0143 Val Accuracy: 1.0\n"
     ]
    },
    {
     "name": "stderr",
     "output_type": "stream",
     "text": [
      "100%|██████████| 5/5 [00:00<00:00, 4999.17it/s]\n"
     ]
    },
    {
     "name": "stdout",
     "output_type": "stream",
     "text": [
      "Example target: [1. 0. 0.]\n",
      "Example prediction: [np.float64(0.9882), np.float64(0.0118), np.float64(0.0)]\n",
      "Epoch 62 Training Loss: 0.0806 Training Accuracy: 0.976 Val Loss: 0.0618 Val Accuracy: 1.0\n"
     ]
    },
    {
     "name": "stderr",
     "output_type": "stream",
     "text": [
      "100%|██████████| 5/5 [00:00<00:00, 2499.29it/s]\n"
     ]
    },
    {
     "name": "stdout",
     "output_type": "stream",
     "text": [
      "Example target: [1. 0. 0.]\n",
      "Example prediction: [np.float64(0.9936), np.float64(0.0064), np.float64(0.0)]\n",
      "Epoch 63 Training Loss: 0.102 Training Accuracy: 0.944 Val Loss: 0.0188 Val Accuracy: 1.0\n"
     ]
    },
    {
     "name": "stderr",
     "output_type": "stream",
     "text": [
      "100%|██████████| 5/5 [00:00<00:00, 2500.78it/s]\n"
     ]
    },
    {
     "name": "stdout",
     "output_type": "stream",
     "text": [
      "Example target: [0. 0. 1.]\n",
      "Example prediction: [np.float64(0.0), np.float64(0.0218), np.float64(0.9782)]\n",
      "Epoch 64 Training Loss: 0.077 Training Accuracy: 0.976 Val Loss: 0.0249 Val Accuracy: 1.0\n"
     ]
    },
    {
     "name": "stderr",
     "output_type": "stream",
     "text": [
      "100%|██████████| 5/5 [00:00<00:00, 5002.75it/s]\n"
     ]
    },
    {
     "name": "stdout",
     "output_type": "stream",
     "text": [
      "Example target: [0. 0. 1.]\n",
      "Example prediction: [np.float64(0.0), np.float64(0.0307), np.float64(0.9693)]\n",
      "Epoch 65 Training Loss: 0.1108 Training Accuracy: 0.944 Val Loss: 0.0231 Val Accuracy: 1.0\n"
     ]
    },
    {
     "name": "stderr",
     "output_type": "stream",
     "text": [
      "100%|██████████| 5/5 [00:00<00:00, 2498.10it/s]\n"
     ]
    },
    {
     "name": "stdout",
     "output_type": "stream",
     "text": [
      "Example target: [1. 0. 0.]\n",
      "Example prediction: [np.float64(0.9871), np.float64(0.0129), np.float64(0.0)]\n",
      "Epoch 66 Training Loss: 0.1105 Training Accuracy: 0.952 Val Loss: 0.0273 Val Accuracy: 1.0\n"
     ]
    },
    {
     "name": "stderr",
     "output_type": "stream",
     "text": [
      "100%|██████████| 5/5 [00:00<00:00, 5009.92it/s]\n"
     ]
    },
    {
     "name": "stdout",
     "output_type": "stream",
     "text": [
      "Example target: [1. 0. 0.]\n",
      "Example prediction: [np.float64(0.9928), np.float64(0.0072), np.float64(0.0)]\n",
      "Epoch 67 Training Loss: 0.1057 Training Accuracy: 0.992 Val Loss: 0.0387 Val Accuracy: 1.0\n"
     ]
    },
    {
     "name": "stderr",
     "output_type": "stream",
     "text": [
      "100%|██████████| 5/5 [00:00<00:00, 4997.98it/s]\n"
     ]
    },
    {
     "name": "stdout",
     "output_type": "stream",
     "text": [
      "Example target: [0. 0. 1.]\n",
      "Example prediction: [np.float64(0.0), np.float64(0.0133), np.float64(0.9867)]\n",
      "Epoch 68 Training Loss: 0.0702 Training Accuracy: 0.984 Val Loss: 0.0137 Val Accuracy: 1.0\n"
     ]
    },
    {
     "name": "stderr",
     "output_type": "stream",
     "text": [
      "100%|██████████| 5/5 [00:00<00:00, 5000.36it/s]\n"
     ]
    },
    {
     "name": "stdout",
     "output_type": "stream",
     "text": [
      "Example target: [1. 0. 0.]\n",
      "Example prediction: [np.float64(0.9992), np.float64(0.0008), np.float64(0.0)]\n",
      "Epoch 69 Training Loss: 0.0821 Training Accuracy: 0.984 Val Loss: 0.0377 Val Accuracy: 1.0\n"
     ]
    },
    {
     "name": "stderr",
     "output_type": "stream",
     "text": [
      "100%|██████████| 5/5 [00:00<00:00, 4986.10it/s]\n"
     ]
    },
    {
     "name": "stdout",
     "output_type": "stream",
     "text": [
      "Example target: [0. 0. 1.]\n",
      "Example prediction: [np.float64(0.0), np.float64(0.0179), np.float64(0.9821)]\n",
      "Epoch 70 Training Loss: 0.1005 Training Accuracy: 0.952 Val Loss: 0.0227 Val Accuracy: 1.0\n"
     ]
    },
    {
     "name": "stderr",
     "output_type": "stream",
     "text": [
      "100%|██████████| 5/5 [00:00<00:00, 4997.98it/s]\n"
     ]
    },
    {
     "name": "stdout",
     "output_type": "stream",
     "text": [
      "Example target: [1. 0. 0.]\n",
      "Example prediction: [np.float64(0.9931), np.float64(0.0069), np.float64(0.0)]\n",
      "Epoch 71 Training Loss: 0.0715 Training Accuracy: 0.984 Val Loss: 0.0357 Val Accuracy: 1.0\n"
     ]
    },
    {
     "name": "stderr",
     "output_type": "stream",
     "text": [
      "100%|██████████| 5/5 [00:00<00:00, 2495.42it/s]\n"
     ]
    },
    {
     "name": "stdout",
     "output_type": "stream",
     "text": [
      "Example target: [0. 1. 0.]\n",
      "Example prediction: [np.float64(0.0129), np.float64(0.9787), np.float64(0.0083)]\n",
      "Epoch 72 Training Loss: 0.0721 Training Accuracy: 0.976 Val Loss: 0.0155 Val Accuracy: 1.0\n"
     ]
    },
    {
     "name": "stderr",
     "output_type": "stream",
     "text": [
      "100%|██████████| 5/5 [00:00<00:00, 4995.60it/s]\n"
     ]
    },
    {
     "name": "stdout",
     "output_type": "stream",
     "text": [
      "Example target: [1. 0. 0.]\n",
      "Example prediction: [np.float64(0.9993), np.float64(0.0007), np.float64(0.0)]\n",
      "Epoch 73 Training Loss: 0.075 Training Accuracy: 0.976 Val Loss: 0.0204 Val Accuracy: 1.0\n"
     ]
    },
    {
     "name": "stderr",
     "output_type": "stream",
     "text": [
      "100%|██████████| 5/5 [00:00<00:00, 2496.31it/s]\n"
     ]
    },
    {
     "name": "stdout",
     "output_type": "stream",
     "text": [
      "Example target: [1. 0. 0.]\n",
      "Example prediction: [np.float64(0.9993), np.float64(0.0007), np.float64(0.0)]\n",
      "Epoch 74 Training Loss: 0.0738 Training Accuracy: 0.96 Val Loss: 0.0261 Val Accuracy: 1.0\n"
     ]
    },
    {
     "name": "stderr",
     "output_type": "stream",
     "text": [
      "100%|██████████| 5/5 [00:00<00:00, 4993.22it/s]\n"
     ]
    },
    {
     "name": "stdout",
     "output_type": "stream",
     "text": [
      "Example target: [0. 0. 1.]\n",
      "Example prediction: [np.float64(0.0), np.float64(0.0183), np.float64(0.9817)]\n",
      "Epoch 75 Training Loss: 0.1316 Training Accuracy: 0.952 Val Loss: 0.0179 Val Accuracy: 1.0\n"
     ]
    },
    {
     "name": "stderr",
     "output_type": "stream",
     "text": [
      "100%|██████████| 5/5 [00:00<00:00, 4988.47it/s]\n"
     ]
    },
    {
     "name": "stdout",
     "output_type": "stream",
     "text": [
      "Example target: [0. 1. 0.]\n",
      "Example prediction: [np.float64(0.0022), np.float64(0.9964), np.float64(0.0013)]\n",
      "Epoch 76 Training Loss: 0.0903 Training Accuracy: 0.992 Val Loss: 0.0191 Val Accuracy: 1.0\n"
     ]
    },
    {
     "name": "stderr",
     "output_type": "stream",
     "text": [
      "100%|██████████| 5/5 [00:00<00:00, 3316.70it/s]\n"
     ]
    },
    {
     "name": "stdout",
     "output_type": "stream",
     "text": [
      "Example target: [0. 0. 1.]\n",
      "Example prediction: [np.float64(0.0), np.float64(0.0049), np.float64(0.9951)]\n",
      "Epoch 77 Training Loss: 0.1779 Training Accuracy: 0.936 Val Loss: 0.0105 Val Accuracy: 1.0\n"
     ]
    },
    {
     "name": "stderr",
     "output_type": "stream",
     "text": [
      "100%|██████████| 5/5 [00:00<00:00, 2463.47it/s]\n"
     ]
    },
    {
     "name": "stdout",
     "output_type": "stream",
     "text": [
      "Example target: [1. 0. 0.]\n",
      "Example prediction: [np.float64(0.9994), np.float64(0.0006), np.float64(0.0)]\n",
      "Epoch 78 Training Loss: 0.0688 Training Accuracy: 0.992 Val Loss: 0.0438 Val Accuracy: 1.0\n"
     ]
    },
    {
     "name": "stderr",
     "output_type": "stream",
     "text": [
      "100%|██████████| 5/5 [00:00<00:00, 5000.36it/s]\n"
     ]
    },
    {
     "name": "stdout",
     "output_type": "stream",
     "text": [
      "Example target: [1. 0. 0.]\n",
      "Example prediction: [np.float64(0.9938), np.float64(0.0062), np.float64(0.0)]\n",
      "Epoch 79 Training Loss: 0.082 Training Accuracy: 0.976 Val Loss: 0.011 Val Accuracy: 1.0\n"
     ]
    },
    {
     "name": "stderr",
     "output_type": "stream",
     "text": [
      "100%|██████████| 5/5 [00:00<00:00, 2499.29it/s]\n"
     ]
    },
    {
     "name": "stdout",
     "output_type": "stream",
     "text": [
      "Example target: [0. 0. 1.]\n",
      "Example prediction: [np.float64(0.0), np.float64(0.0543), np.float64(0.9457)]\n",
      "Epoch 80 Training Loss: 0.1153 Training Accuracy: 0.944 Val Loss: 0.0341 Val Accuracy: 1.0\n"
     ]
    },
    {
     "name": "stderr",
     "output_type": "stream",
     "text": [
      "100%|██████████| 5/5 [00:00<00:00, 5000.36it/s]\n"
     ]
    },
    {
     "name": "stdout",
     "output_type": "stream",
     "text": [
      "Example target: [0. 0. 1.]\n",
      "Example prediction: [np.float64(0.0), np.float64(0.0468), np.float64(0.9532)]\n",
      "Epoch 81 Training Loss: 0.0987 Training Accuracy: 0.952 Val Loss: 0.0298 Val Accuracy: 1.0\n"
     ]
    },
    {
     "name": "stderr",
     "output_type": "stream",
     "text": [
      "100%|██████████| 5/5 [00:00<00:00, 4997.98it/s]\n"
     ]
    },
    {
     "name": "stdout",
     "output_type": "stream",
     "text": [
      "Example target: [0. 1. 0.]\n",
      "Example prediction: [np.float64(0.002), np.float64(0.9964), np.float64(0.0016)]\n",
      "Epoch 82 Training Loss: 0.0634 Training Accuracy: 0.984 Val Loss: 0.0129 Val Accuracy: 1.0\n"
     ]
    },
    {
     "name": "stderr",
     "output_type": "stream",
     "text": [
      "100%|██████████| 5/5 [00:00<00:00, 2500.48it/s]\n"
     ]
    },
    {
     "name": "stdout",
     "output_type": "stream",
     "text": [
      "Example target: [1. 0. 0.]\n",
      "Example prediction: [np.float64(0.9955), np.float64(0.0045), np.float64(0.0)]\n",
      "Epoch 83 Training Loss: 0.0608 Training Accuracy: 0.984 Val Loss: 0.0332 Val Accuracy: 1.0\n"
     ]
    },
    {
     "name": "stderr",
     "output_type": "stream",
     "text": [
      "100%|██████████| 5/5 [00:00<00:00, 4994.41it/s]\n"
     ]
    },
    {
     "name": "stdout",
     "output_type": "stream",
     "text": [
      "Example target: [0. 0. 1.]\n",
      "Example prediction: [np.float64(0.0), np.float64(0.0098), np.float64(0.9902)]\n",
      "Epoch 84 Training Loss: 0.064 Training Accuracy: 0.976 Val Loss: 0.0124 Val Accuracy: 1.0\n"
     ]
    },
    {
     "name": "stderr",
     "output_type": "stream",
     "text": [
      "100%|██████████| 5/5 [00:00<00:00, 5001.55it/s]\n"
     ]
    },
    {
     "name": "stdout",
     "output_type": "stream",
     "text": [
      "Example target: [1. 0. 0.]\n",
      "Example prediction: [np.float64(0.9997), np.float64(0.0003), np.float64(0.0)]\n",
      "Epoch 85 Training Loss: 0.0794 Training Accuracy: 0.984 Val Loss: 0.0271 Val Accuracy: 1.0\n"
     ]
    },
    {
     "name": "stderr",
     "output_type": "stream",
     "text": [
      "100%|██████████| 5/5 [00:00<00:00, 2498.69it/s]\n"
     ]
    },
    {
     "name": "stdout",
     "output_type": "stream",
     "text": [
      "Example target: [1. 0. 0.]\n",
      "Example prediction: [np.float64(0.9964), np.float64(0.0036), np.float64(0.0)]\n",
      "Epoch 86 Training Loss: 0.0619 Training Accuracy: 0.976 Val Loss: 0.0103 Val Accuracy: 1.0\n"
     ]
    },
    {
     "name": "stderr",
     "output_type": "stream",
     "text": [
      "100%|██████████| 5/5 [00:00<00:00, 2498.10it/s]\n"
     ]
    },
    {
     "name": "stdout",
     "output_type": "stream",
     "text": [
      "Example target: [1. 0. 0.]\n",
      "Example prediction: [np.float64(0.9975), np.float64(0.0025), np.float64(0.0)]\n",
      "Epoch 87 Training Loss: 0.0741 Training Accuracy: 0.976 Val Loss: 0.0402 Val Accuracy: 1.0\n"
     ]
    },
    {
     "name": "stderr",
     "output_type": "stream",
     "text": [
      "100%|██████████| 5/5 [00:00<00:00, 2498.69it/s]\n"
     ]
    },
    {
     "name": "stdout",
     "output_type": "stream",
     "text": [
      "Example target: [1. 0. 0.]\n",
      "Example prediction: [np.float64(0.9975), np.float64(0.0025), np.float64(0.0)]\n",
      "Epoch 88 Training Loss: 0.0985 Training Accuracy: 0.96 Val Loss: 0.0188 Val Accuracy: 1.0\n"
     ]
    },
    {
     "name": "stderr",
     "output_type": "stream",
     "text": [
      "100%|██████████| 5/5 [00:00<00:00, 5002.75it/s]\n"
     ]
    },
    {
     "name": "stdout",
     "output_type": "stream",
     "text": [
      "Example target: [1. 0. 0.]\n",
      "Example prediction: [np.float64(0.9998), np.float64(0.0002), np.float64(0.0)]\n",
      "Epoch 89 Training Loss: 0.0732 Training Accuracy: 0.984 Val Loss: 0.0093 Val Accuracy: 1.0\n"
     ]
    },
    {
     "name": "stderr",
     "output_type": "stream",
     "text": [
      "100%|██████████| 5/5 [00:00<00:00, 2496.91it/s]\n"
     ]
    },
    {
     "name": "stdout",
     "output_type": "stream",
     "text": [
      "Example target: [0. 0. 1.]\n",
      "Example prediction: [np.float64(0.0001), np.float64(0.3707), np.float64(0.6293)]\n",
      "Epoch 90 Training Loss: 0.0991 Training Accuracy: 0.952 Val Loss: 0.0464 Val Accuracy: 1.0\n"
     ]
    },
    {
     "name": "stderr",
     "output_type": "stream",
     "text": [
      "100%|██████████| 5/5 [00:00<00:00, 2490.38it/s]\n"
     ]
    },
    {
     "name": "stdout",
     "output_type": "stream",
     "text": [
      "Example target: [0. 0. 1.]\n",
      "Example prediction: [np.float64(0.0), np.float64(0.0065), np.float64(0.9935)]\n",
      "Epoch 91 Training Loss: 0.0626 Training Accuracy: 0.984 Val Loss: 0.0082 Val Accuracy: 1.0\n"
     ]
    },
    {
     "name": "stderr",
     "output_type": "stream",
     "text": [
      "100%|██████████| 5/5 [00:00<00:00, 4996.79it/s]\n"
     ]
    },
    {
     "name": "stdout",
     "output_type": "stream",
     "text": [
      "Example target: [1. 0. 0.]\n",
      "Example prediction: [np.float64(0.9997), np.float64(0.0003), np.float64(0.0)]\n",
      "Epoch 92 Training Loss: 0.0887 Training Accuracy: 0.96 Val Loss: 0.0108 Val Accuracy: 1.0\n"
     ]
    },
    {
     "name": "stderr",
     "output_type": "stream",
     "text": [
      "100%|██████████| 5/5 [00:00<00:00, 4999.17it/s]\n"
     ]
    },
    {
     "name": "stdout",
     "output_type": "stream",
     "text": [
      "Example target: [0. 0. 1.]\n",
      "Example prediction: [np.float64(0.0), np.float64(0.0581), np.float64(0.9419)]\n",
      "Epoch 93 Training Loss: 0.0928 Training Accuracy: 0.944 Val Loss: 0.0466 Val Accuracy: 1.0\n"
     ]
    },
    {
     "name": "stderr",
     "output_type": "stream",
     "text": [
      "100%|██████████| 5/5 [00:00<00:00, 2498.69it/s]\n"
     ]
    },
    {
     "name": "stdout",
     "output_type": "stream",
     "text": [
      "Example target: [1. 0. 0.]\n",
      "Example prediction: [np.float64(0.9963), np.float64(0.0037), np.float64(0.0)]\n",
      "Epoch 94 Training Loss: 0.0651 Training Accuracy: 0.96 Val Loss: 0.0081 Val Accuracy: 1.0\n"
     ]
    },
    {
     "name": "stderr",
     "output_type": "stream",
     "text": [
      "100%|██████████| 5/5 [00:00<00:00, 4982.54it/s]\n"
     ]
    },
    {
     "name": "stdout",
     "output_type": "stream",
     "text": [
      "Example target: [0. 0. 1.]\n",
      "Example prediction: [np.float64(0.0), np.float64(0.0276), np.float64(0.9724)]\n",
      "Epoch 95 Training Loss: 0.1154 Training Accuracy: 0.936 Val Loss: 0.021 Val Accuracy: 1.0\n"
     ]
    },
    {
     "name": "stderr",
     "output_type": "stream",
     "text": [
      "100%|██████████| 5/5 [00:00<00:00, 2500.48it/s]\n"
     ]
    },
    {
     "name": "stdout",
     "output_type": "stream",
     "text": [
      "Example target: [0. 0. 1.]\n",
      "Example prediction: [np.float64(0.0), np.float64(0.0577), np.float64(0.9423)]\n",
      "Epoch 96 Training Loss: 0.0829 Training Accuracy: 0.952 Val Loss: 0.0389 Val Accuracy: 1.0\n"
     ]
    },
    {
     "name": "stderr",
     "output_type": "stream",
     "text": [
      "100%|██████████| 5/5 [00:00<00:00, 4997.98it/s]\n"
     ]
    },
    {
     "name": "stdout",
     "output_type": "stream",
     "text": [
      "Example target: [1. 0. 0.]\n",
      "Example prediction: [np.float64(0.9996), np.float64(0.0004), np.float64(0.0)]\n",
      "Epoch 97 Training Loss: 0.126 Training Accuracy: 0.952 Val Loss: 0.0077 Val Accuracy: 1.0\n"
     ]
    },
    {
     "name": "stderr",
     "output_type": "stream",
     "text": [
      "100%|██████████| 5/5 [00:00<00:00, 2498.69it/s]\n"
     ]
    },
    {
     "name": "stdout",
     "output_type": "stream",
     "text": [
      "Example target: [1. 0. 0.]\n",
      "Example prediction: [np.float64(0.9971), np.float64(0.0029), np.float64(0.0)]\n",
      "Epoch 98 Training Loss: 0.0554 Training Accuracy: 0.984 Val Loss: 0.0558 Val Accuracy: 1.0\n"
     ]
    },
    {
     "name": "stderr",
     "output_type": "stream",
     "text": [
      "100%|██████████| 5/5 [00:00<00:00, 2498.99it/s]\n"
     ]
    },
    {
     "name": "stdout",
     "output_type": "stream",
     "text": [
      "Example target: [0. 0. 1.]\n",
      "Example prediction: [np.float64(0.0), np.float64(0.0271), np.float64(0.9729)]\n",
      "Epoch 99 Training Loss: 0.0846 Training Accuracy: 0.952 Val Loss: 0.0201 Val Accuracy: 1.0\n",
      "Test Loss: 0.3021 Test Accuracy: 0.88\n"
     ]
    },
    {
     "data": {
      "text/plain": [
       "{'loss': [np.float64(0.05140614805786219), np.float64(0.5528774918594858)],\n",
       " 'error': [np.float64(0.04), np.float64(0.2)]}"
      ]
     },
     "execution_count": 3,
     "metadata": {},
     "output_type": "execute_result"
    }
   ],
   "source": [
    "\n",
    "\"\"\"\n",
    "Step 1: Define layer arguments\n",
    "\n",
    "- Define the arguments for each layer in an attribute dictionary (AttrDict).\n",
    "- An attribute dictionary is exactly like a dictionary, except you can access the values as attributes rather than keys...for cleaner code :)\n",
    "- See layers.py for the arguments expected by each layer type.\n",
    "\"\"\"\n",
    "\n",
    "from neural_networks.utils import AttrDict\n",
    "\n",
    "fc1 = AttrDict(\n",
    "    {\n",
    "        \"name\": \"fully_connected\",\n",
    "        \"activation\": \"relu\",\n",
    "        \"weight_init\": \"xavier_uniform\",\n",
    "        \"n_out\": 25,\n",
    "    }\n",
    ")\n",
    "\n",
    "fc_out = AttrDict(\n",
    "    {\n",
    "        \"name\": \"fully_connected\",\n",
    "        \"activation\": \"softmax\",  # Softmax for last layer for classification\n",
    "        \"weight_init\": \"xavier_uniform\",\n",
    "        \"n_out\": None\n",
    "        # n_out is not defined for last layer. This will be set by the dataset.\n",
    "    }\n",
    ")\n",
    "\n",
    "\"\"\"\n",
    "Step 2: Collect layer argument dictionaries into a list.\n",
    "\n",
    "- This defines the order of layers in the network.\n",
    "\"\"\"\n",
    "\n",
    "layer_args = [fc1, fc_out]\n",
    "\n",
    "\"\"\"\n",
    "Step 3: Define model, data, and logger arguments\n",
    "\n",
    "- The list of layer_args is passed to the model initializer.\n",
    "\"\"\"\n",
    "\n",
    "optimizer_args = AttrDict(\n",
    "    {\n",
    "        \"name\": \"SGD\",\n",
    "        \"lr\": 0.01,\n",
    "        \"lr_scheduler\": \"constant\",\n",
    "        \"lr_decay\": 0.99,\n",
    "        \"stage_length\": 1000,\n",
    "        \"staircase\": True,\n",
    "        \"clip_norm\": 1.0,\n",
    "        \"momentum\": 0.9,\n",
    "    }\n",
    ")\n",
    "\n",
    "model_args = AttrDict(\n",
    "    {\n",
    "        \"name\": \"feed_forward\",\n",
    "        \"loss\": \"cross_entropy\",\n",
    "        \"layer_args\": layer_args,\n",
    "        \"optimizer_args\": optimizer_args,\n",
    "        \"seed\": 0,\n",
    "    }\n",
    ")\n",
    "\n",
    "data_args = AttrDict(\n",
    "    {\n",
    "        \"name\": \"iris\",\n",
    "        \"batch_size\": 25,\n",
    "    }\n",
    ")\n",
    "\n",
    "log_args = AttrDict(\n",
    "    {\"save\": True, \"plot\": True, \"save_dir\": \"experiments/\",}\n",
    ")\n",
    "\n",
    "\"\"\"\n",
    "Step 4: Set random seed\n",
    "\n",
    "Warning! Random seed must be set before importing other modules.\n",
    "\"\"\"\n",
    "\n",
    "import numpy as np\n",
    "\n",
    "np.random.seed(model_args.seed)\n",
    "\n",
    "\"\"\"\n",
    "Step 5: Define model name for saving\n",
    "\"\"\"\n",
    "\n",
    "model_name = \"{}_{}layers_{}-lr{}_mom{}_seed{}\".format(\n",
    "    model_args.name,\n",
    "    len(layer_args),\n",
    "    fc1[\"n_out\"],\n",
    "    optimizer_args.lr,\n",
    "    optimizer_args.momentum,\n",
    "    model_args.seed,\n",
    ")\n",
    "\n",
    "\"\"\"\n",
    "Step 6: Initialize logger, model, and dataset\n",
    "\n",
    "- model_name, model_args, and data_args are passed to the logger for saving\n",
    "- The logger is passed to the model.\n",
    "\"\"\"\n",
    "\n",
    "from neural_networks.models import initialize_model\n",
    "from neural_networks.datasets import initialize_dataset\n",
    "from neural_networks.logs import Logger\n",
    "\n",
    "\n",
    "logger = Logger(\n",
    "    model_name=model_name,\n",
    "    model_args=model_args,\n",
    "    data_args=data_args,\n",
    "    save=log_args.save,\n",
    "    plot=log_args.plot,\n",
    "    save_dir=log_args.save_dir,\n",
    ")\n",
    "\n",
    "\n",
    "model = initialize_model(\n",
    "    name=model_args.name,\n",
    "    loss=model_args.loss,\n",
    "    layer_args=model_args.layer_args,\n",
    "    optimizer_args=model_args.optimizer_args,\n",
    "    logger=logger,\n",
    ")\n",
    "\n",
    "\n",
    "dataset = initialize_dataset(\n",
    "    name=data_args.name,\n",
    "    batch_size=data_args.batch_size,\n",
    ")\n",
    "\n",
    "\n",
    "\"\"\"\n",
    "Step 7: Train model!\n",
    "\"\"\"\n",
    "\n",
    "epochs = 100\n",
    "\n",
    "print(\n",
    "    \"Training {} neural network on {} with {} for {} epochs...\".format(\n",
    "        model_args.name, data_args.name, optimizer_args.name, epochs\n",
    "    )\n",
    ")\n",
    "\n",
    "print(\"Optimizer:\")\n",
    "print(optimizer_args)\n",
    "\n",
    "model.train(dataset, epochs=epochs)\n",
    "model.test(dataset)\n"
   ]
  },
  {
   "cell_type": "code",
   "execution_count": 5,
   "id": "1c657601",
   "metadata": {},
   "outputs": [
    {
     "name": "stdout",
     "output_type": "stream",
     "text": [
      "Training feed_forward neural network on iris with SGD for 100 epochs...\n",
      "Optimizer:\n",
      "{'name': 'SGD', 'lr': 0.1, 'lr_scheduler': 'constant', 'lr_decay': 0.99, 'stage_length': 1000, 'staircase': True, 'clip_norm': 1.0, 'momentum': 0.9}\n"
     ]
    },
    {
     "name": "stderr",
     "output_type": "stream",
     "text": [
      "100%|██████████| 5/5 [00:00<00:00, 2491.86it/s]\n"
     ]
    },
    {
     "name": "stdout",
     "output_type": "stream",
     "text": [
      "Example target: [0. 0. 1.]\n",
      "Example prediction: [np.float64(0.0127), np.float64(0.5536), np.float64(0.4337)]\n",
      "Epoch 0 Training Loss: 1.0692 Training Accuracy: 0.496 Val Loss: 0.458 Val Accuracy: 0.7333\n"
     ]
    },
    {
     "name": "stderr",
     "output_type": "stream",
     "text": [
      "100%|██████████| 5/5 [00:00<00:00, 2498.99it/s]\n"
     ]
    },
    {
     "name": "stdout",
     "output_type": "stream",
     "text": [
      "Example target: [1. 0. 0.]\n",
      "Example prediction: [np.float64(0.9715), np.float64(0.0284), np.float64(0.0001)]\n",
      "Epoch 1 Training Loss: 0.7206 Training Accuracy: 0.712 Val Loss: 0.6456 Val Accuracy: 0.7333\n"
     ]
    },
    {
     "name": "stderr",
     "output_type": "stream",
     "text": [
      "100%|██████████| 5/5 [00:00<00:00, 2501.08it/s]\n"
     ]
    },
    {
     "name": "stdout",
     "output_type": "stream",
     "text": [
      "Example target: [1. 0. 0.]\n",
      "Example prediction: [np.float64(0.9346), np.float64(0.0654), np.float64(0.0)]\n",
      "Epoch 2 Training Loss: 0.4414 Training Accuracy: 0.776 Val Loss: 0.8295 Val Accuracy: 0.7333\n"
     ]
    },
    {
     "name": "stderr",
     "output_type": "stream",
     "text": [
      "100%|██████████| 5/5 [00:00<00:00, 2500.18it/s]\n"
     ]
    },
    {
     "name": "stdout",
     "output_type": "stream",
     "text": [
      "Example target: [1. 0. 0.]\n",
      "Example prediction: [np.float64(0.9993), np.float64(0.0007), np.float64(0.0)]\n",
      "Epoch 3 Training Loss: 1.0594 Training Accuracy: 0.568 Val Loss: 0.2139 Val Accuracy: 0.8\n"
     ]
    },
    {
     "name": "stderr",
     "output_type": "stream",
     "text": [
      "100%|██████████| 5/5 [00:00<00:00, 2497.20it/s]\n"
     ]
    },
    {
     "name": "stdout",
     "output_type": "stream",
     "text": [
      "Example target: [0. 0. 1.]\n",
      "Example prediction: [np.float64(0.0), np.float64(0.0001), np.float64(0.9999)]\n",
      "Epoch 4 Training Loss: 0.3059 Training Accuracy: 0.832 Val Loss: 0.8867 Val Accuracy: 0.8\n"
     ]
    },
    {
     "name": "stderr",
     "output_type": "stream",
     "text": [
      "100%|██████████| 5/5 [00:00<00:00, 2498.39it/s]\n"
     ]
    },
    {
     "name": "stdout",
     "output_type": "stream",
     "text": [
      "Example target: [1. 0. 0.]\n",
      "Example prediction: [np.float64(0.9999), np.float64(0.0001), np.float64(0.0)]\n",
      "Epoch 5 Training Loss: 1.357 Training Accuracy: 0.68 Val Loss: 1.0768 Val Accuracy: 0.7333\n"
     ]
    },
    {
     "name": "stderr",
     "output_type": "stream",
     "text": [
      "100%|██████████| 5/5 [00:00<00:00, 1666.39it/s]\n"
     ]
    },
    {
     "name": "stdout",
     "output_type": "stream",
     "text": [
      "Example target: [0. 0. 1.]\n",
      "Example prediction: [np.float64(0.0002), np.float64(0.0797), np.float64(0.9201)]\n",
      "Epoch 6 Training Loss: 0.7784 Training Accuracy: 0.672 Val Loss: 0.2259 Val Accuracy: 0.8\n"
     ]
    },
    {
     "name": "stderr",
     "output_type": "stream",
     "text": [
      "100%|██████████| 5/5 [00:00<00:00, 2498.69it/s]\n"
     ]
    },
    {
     "name": "stdout",
     "output_type": "stream",
     "text": [
      "Example target: [1. 0. 0.]\n",
      "Example prediction: [np.float64(0.9957), np.float64(0.0043), np.float64(0.0)]\n",
      "Epoch 7 Training Loss: 0.3314 Training Accuracy: 0.888 Val Loss: 0.1725 Val Accuracy: 1.0\n"
     ]
    },
    {
     "name": "stderr",
     "output_type": "stream",
     "text": [
      "100%|██████████| 5/5 [00:00<00:00, 2501.08it/s]\n"
     ]
    },
    {
     "name": "stdout",
     "output_type": "stream",
     "text": [
      "Example target: [1. 0. 0.]\n",
      "Example prediction: [np.float64(0.9999), np.float64(0.0001), np.float64(0.0)]\n",
      "Epoch 8 Training Loss: 0.2026 Training Accuracy: 0.936 Val Loss: 0.0589 Val Accuracy: 1.0\n"
     ]
    },
    {
     "name": "stderr",
     "output_type": "stream",
     "text": [
      "100%|██████████| 5/5 [00:00<00:00, 4997.98it/s]\n"
     ]
    },
    {
     "name": "stdout",
     "output_type": "stream",
     "text": [
      "Example target: [0. 0. 1.]\n",
      "Example prediction: [np.float64(0.0), np.float64(0.0039), np.float64(0.9961)]\n",
      "Epoch 9 Training Loss: 0.4176 Training Accuracy: 0.816 Val Loss: 0.1655 Val Accuracy: 0.8\n"
     ]
    },
    {
     "name": "stderr",
     "output_type": "stream",
     "text": [
      "100%|██████████| 5/5 [00:00<00:00, 2499.59it/s]\n"
     ]
    },
    {
     "name": "stdout",
     "output_type": "stream",
     "text": [
      "Example target: [1. 0. 0.]\n",
      "Example prediction: [np.float64(0.9999), np.float64(0.0001), np.float64(0.0)]\n",
      "Epoch 10 Training Loss: 0.7654 Training Accuracy: 0.768 Val Loss: 0.3969 Val Accuracy: 0.8\n"
     ]
    },
    {
     "name": "stderr",
     "output_type": "stream",
     "text": [
      "100%|██████████| 5/5 [00:00<00:00, 2501.08it/s]\n"
     ]
    },
    {
     "name": "stdout",
     "output_type": "stream",
     "text": [
      "Example target: [1. 0. 0.]\n",
      "Example prediction: [np.float64(0.9932), np.float64(0.0068), np.float64(0.0)]\n",
      "Epoch 11 Training Loss: 0.215 Training Accuracy: 0.912 Val Loss: 0.1251 Val Accuracy: 0.9333\n"
     ]
    },
    {
     "name": "stderr",
     "output_type": "stream",
     "text": [
      "100%|██████████| 5/5 [00:00<00:00, 2498.10it/s]\n"
     ]
    },
    {
     "name": "stdout",
     "output_type": "stream",
     "text": [
      "Example target: [0. 1. 0.]\n",
      "Example prediction: [np.float64(0.0024), np.float64(0.9824), np.float64(0.0152)]\n",
      "Epoch 12 Training Loss: 0.1984 Training Accuracy: 0.912 Val Loss: 0.0115 Val Accuracy: 1.0\n"
     ]
    },
    {
     "name": "stderr",
     "output_type": "stream",
     "text": [
      "100%|██████████| 5/5 [00:00<00:00, 2499.59it/s]\n"
     ]
    },
    {
     "name": "stdout",
     "output_type": "stream",
     "text": [
      "Example target: [1. 0. 0.]\n",
      "Example prediction: [np.float64(0.9981), np.float64(0.0019), np.float64(0.0)]\n",
      "Epoch 13 Training Loss: 0.1127 Training Accuracy: 0.944 Val Loss: 0.041 Val Accuracy: 1.0\n"
     ]
    },
    {
     "name": "stderr",
     "output_type": "stream",
     "text": [
      "100%|██████████| 5/5 [00:00<00:00, 1992.92it/s]\n"
     ]
    },
    {
     "name": "stdout",
     "output_type": "stream",
     "text": [
      "Example target: [1. 0. 0.]\n",
      "Example prediction: [np.float64(0.9998), np.float64(0.0002), np.float64(0.0)]\n",
      "Epoch 14 Training Loss: 0.1717 Training Accuracy: 0.92 Val Loss: 0.0065 Val Accuracy: 1.0\n"
     ]
    },
    {
     "name": "stderr",
     "output_type": "stream",
     "text": [
      "100%|██████████| 5/5 [00:00<00:00, 2497.50it/s]\n"
     ]
    },
    {
     "name": "stdout",
     "output_type": "stream",
     "text": [
      "Example target: [1. 0. 0.]\n",
      "Example prediction: [np.float64(0.9999), np.float64(0.0001), np.float64(0.0)]\n",
      "Epoch 15 Training Loss: 0.4367 Training Accuracy: 0.864 Val Loss: 0.2408 Val Accuracy: 0.8667\n"
     ]
    },
    {
     "name": "stderr",
     "output_type": "stream",
     "text": [
      "100%|██████████| 5/5 [00:00<00:00, 2497.80it/s]\n"
     ]
    },
    {
     "name": "stdout",
     "output_type": "stream",
     "text": [
      "Example target: [0. 1. 0.]\n",
      "Example prediction: [np.float64(0.0038), np.float64(0.9962), np.float64(0.0)]\n",
      "Epoch 16 Training Loss: 0.1868 Training Accuracy: 0.92 Val Loss: 0.5666 Val Accuracy: 0.8\n"
     ]
    },
    {
     "name": "stderr",
     "output_type": "stream",
     "text": [
      "100%|██████████| 5/5 [00:00<00:00, 1668.11it/s]\n"
     ]
    },
    {
     "name": "stdout",
     "output_type": "stream",
     "text": [
      "Example target: [1. 0. 0.]\n",
      "Example prediction: [np.float64(0.9993), np.float64(0.0007), np.float64(0.0)]\n",
      "Epoch 17 Training Loss: 0.2885 Training Accuracy: 0.912 Val Loss: 0.1372 Val Accuracy: 0.9333\n"
     ]
    },
    {
     "name": "stderr",
     "output_type": "stream",
     "text": [
      "100%|██████████| 5/5 [00:00<00:00, 2498.39it/s]\n"
     ]
    },
    {
     "name": "stdout",
     "output_type": "stream",
     "text": [
      "Example target: [1. 0. 0.]\n",
      "Example prediction: [np.float64(0.9949), np.float64(0.0051), np.float64(0.0)]\n",
      "Epoch 18 Training Loss: 0.1248 Training Accuracy: 0.952 Val Loss: 0.1534 Val Accuracy: 0.9333\n"
     ]
    },
    {
     "name": "stderr",
     "output_type": "stream",
     "text": [
      "100%|██████████| 5/5 [00:00<00:00, 4993.22it/s]\n"
     ]
    },
    {
     "name": "stdout",
     "output_type": "stream",
     "text": [
      "Example target: [1. 0. 0.]\n",
      "Example prediction: [np.float64(0.9998), np.float64(0.0002), np.float64(0.0)]\n",
      "Epoch 19 Training Loss: 0.1103 Training Accuracy: 0.952 Val Loss: 0.0297 Val Accuracy: 1.0\n"
     ]
    },
    {
     "name": "stderr",
     "output_type": "stream",
     "text": [
      "100%|██████████| 5/5 [00:00<00:00, 2498.99it/s]\n"
     ]
    },
    {
     "name": "stdout",
     "output_type": "stream",
     "text": [
      "Example target: [1. 0. 0.]\n",
      "Example prediction: [np.float64(0.9997), np.float64(0.0003), np.float64(0.0)]\n",
      "Epoch 20 Training Loss: 0.2959 Training Accuracy: 0.896 Val Loss: 0.0119 Val Accuracy: 1.0\n"
     ]
    },
    {
     "name": "stderr",
     "output_type": "stream",
     "text": [
      "100%|██████████| 5/5 [00:00<00:00, 5000.36it/s]\n"
     ]
    },
    {
     "name": "stdout",
     "output_type": "stream",
     "text": [
      "Example target: [1. 0. 0.]\n",
      "Example prediction: [np.float64(0.9989), np.float64(0.0011), np.float64(0.0)]\n",
      "Epoch 21 Training Loss: 0.1064 Training Accuracy: 0.96 Val Loss: 0.0045 Val Accuracy: 1.0\n"
     ]
    },
    {
     "name": "stderr",
     "output_type": "stream",
     "text": [
      "100%|██████████| 5/5 [00:00<00:00, 2499.29it/s]\n"
     ]
    },
    {
     "name": "stdout",
     "output_type": "stream",
     "text": [
      "Example target: [0. 0. 1.]\n",
      "Example prediction: [np.float64(0.0), np.float64(0.0009), np.float64(0.9991)]\n",
      "Epoch 22 Training Loss: 0.1117 Training Accuracy: 0.952 Val Loss: 0.0138 Val Accuracy: 1.0\n"
     ]
    },
    {
     "name": "stderr",
     "output_type": "stream",
     "text": [
      "100%|██████████| 5/5 [00:00<00:00, 2497.50it/s]\n"
     ]
    },
    {
     "name": "stdout",
     "output_type": "stream",
     "text": [
      "Example target: [1. 0. 0.]\n",
      "Example prediction: [np.float64(0.9998), np.float64(0.0002), np.float64(0.0)]\n",
      "Epoch 23 Training Loss: 0.1573 Training Accuracy: 0.928 Val Loss: 0.0187 Val Accuracy: 1.0\n"
     ]
    },
    {
     "name": "stderr",
     "output_type": "stream",
     "text": [
      "100%|██████████| 5/5 [00:00<00:00, 5002.75it/s]\n"
     ]
    },
    {
     "name": "stdout",
     "output_type": "stream",
     "text": [
      "Example target: [0. 1. 0.]\n",
      "Example prediction: [np.float64(0.0084), np.float64(0.9913), np.float64(0.0003)]\n",
      "Epoch 24 Training Loss: 0.1458 Training Accuracy: 0.936 Val Loss: 0.0048 Val Accuracy: 1.0\n"
     ]
    },
    {
     "name": "stderr",
     "output_type": "stream",
     "text": [
      "100%|██████████| 5/5 [00:00<00:00, 2499.59it/s]\n"
     ]
    },
    {
     "name": "stdout",
     "output_type": "stream",
     "text": [
      "Example target: [1. 0. 0.]\n",
      "Example prediction: [np.float64(1.0), np.float64(0.0), np.float64(0.0)]\n",
      "Epoch 25 Training Loss: 0.0937 Training Accuracy: 0.976 Val Loss: 0.0011 Val Accuracy: 1.0\n"
     ]
    },
    {
     "name": "stderr",
     "output_type": "stream",
     "text": [
      "100%|██████████| 5/5 [00:00<00:00, 2497.80it/s]\n"
     ]
    },
    {
     "name": "stdout",
     "output_type": "stream",
     "text": [
      "Example target: [1. 0. 0.]\n",
      "Example prediction: [np.float64(0.9958), np.float64(0.0042), np.float64(0.0)]\n",
      "Epoch 26 Training Loss: 0.2816 Training Accuracy: 0.912 Val Loss: 0.3103 Val Accuracy: 0.8667\n"
     ]
    },
    {
     "name": "stderr",
     "output_type": "stream",
     "text": [
      "100%|██████████| 5/5 [00:00<00:00, 1665.99it/s]\n"
     ]
    },
    {
     "name": "stdout",
     "output_type": "stream",
     "text": [
      "Example target: [0. 0. 1.]\n",
      "Example prediction: [np.float64(0.0), np.float64(0.0757), np.float64(0.9243)]\n",
      "Epoch 27 Training Loss: 0.1594 Training Accuracy: 0.952 Val Loss: 0.0698 Val Accuracy: 0.9333\n"
     ]
    },
    {
     "name": "stderr",
     "output_type": "stream",
     "text": [
      "100%|██████████| 5/5 [00:00<00:00, 2498.39it/s]\n"
     ]
    },
    {
     "name": "stdout",
     "output_type": "stream",
     "text": [
      "Example target: [0. 0. 1.]\n",
      "Example prediction: [np.float64(0.0), np.float64(0.5153), np.float64(0.4847)]\n",
      "Epoch 28 Training Loss: 0.1069 Training Accuracy: 0.944 Val Loss: 0.2768 Val Accuracy: 0.8667\n"
     ]
    },
    {
     "name": "stderr",
     "output_type": "stream",
     "text": [
      "100%|██████████| 5/5 [00:00<00:00, 2500.48it/s]\n"
     ]
    },
    {
     "name": "stdout",
     "output_type": "stream",
     "text": [
      "Example target: [1. 0. 0.]\n",
      "Example prediction: [np.float64(0.9994), np.float64(0.0006), np.float64(0.0)]\n",
      "Epoch 29 Training Loss: 0.1921 Training Accuracy: 0.944 Val Loss: 0.0026 Val Accuracy: 1.0\n"
     ]
    },
    {
     "name": "stderr",
     "output_type": "stream",
     "text": [
      "100%|██████████| 5/5 [00:00<00:00, 2501.67it/s]\n"
     ]
    },
    {
     "name": "stdout",
     "output_type": "stream",
     "text": [
      "Example target: [1. 0. 0.]\n",
      "Example prediction: [np.float64(0.9996), np.float64(0.0004), np.float64(0.0)]\n",
      "Epoch 30 Training Loss: 0.0779 Training Accuracy: 0.968 Val Loss: 0.0085 Val Accuracy: 1.0\n"
     ]
    },
    {
     "name": "stderr",
     "output_type": "stream",
     "text": [
      "100%|██████████| 5/5 [00:00<00:00, 4999.17it/s]\n"
     ]
    },
    {
     "name": "stdout",
     "output_type": "stream",
     "text": [
      "Example target: [1. 0. 0.]\n",
      "Example prediction: [np.float64(0.9987), np.float64(0.0013), np.float64(0.0)]\n",
      "Epoch 31 Training Loss: 0.0691 Training Accuracy: 0.968 Val Loss: 0.1624 Val Accuracy: 0.9333\n"
     ]
    },
    {
     "name": "stderr",
     "output_type": "stream",
     "text": [
      "100%|██████████| 5/5 [00:00<00:00, 1663.48it/s]\n"
     ]
    },
    {
     "name": "stdout",
     "output_type": "stream",
     "text": [
      "Example target: [0. 0. 1.]\n",
      "Example prediction: [np.float64(0.0), np.float64(0.0007), np.float64(0.9993)]\n",
      "Epoch 32 Training Loss: 0.177 Training Accuracy: 0.936 Val Loss: 0.0025 Val Accuracy: 1.0\n"
     ]
    },
    {
     "name": "stderr",
     "output_type": "stream",
     "text": [
      "100%|██████████| 5/5 [00:00<00:00, 2499.59it/s]\n"
     ]
    },
    {
     "name": "stdout",
     "output_type": "stream",
     "text": [
      "Example target: [1. 0. 0.]\n",
      "Example prediction: [np.float64(0.9995), np.float64(0.0005), np.float64(0.0)]\n",
      "Epoch 33 Training Loss: 0.0324 Training Accuracy: 0.984 Val Loss: 0.8442 Val Accuracy: 0.7333\n"
     ]
    },
    {
     "name": "stderr",
     "output_type": "stream",
     "text": [
      "100%|██████████| 5/5 [00:00<00:00, 1666.92it/s]\n"
     ]
    },
    {
     "name": "stdout",
     "output_type": "stream",
     "text": [
      "Example target: [1. 0. 0.]\n",
      "Example prediction: [np.float64(1.0), np.float64(0.0), np.float64(0.0)]\n",
      "Epoch 34 Training Loss: 0.8264 Training Accuracy: 0.76 Val Loss: 0.1249 Val Accuracy: 1.0\n"
     ]
    },
    {
     "name": "stderr",
     "output_type": "stream",
     "text": [
      "100%|██████████| 5/5 [00:00<00:00, 2498.39it/s]\n"
     ]
    },
    {
     "name": "stdout",
     "output_type": "stream",
     "text": [
      "Example target: [1. 0. 0.]\n",
      "Example prediction: [np.float64(0.9997), np.float64(0.0003), np.float64(0.0)]\n",
      "Epoch 35 Training Loss: 0.3578 Training Accuracy: 0.872 Val Loss: 0.044 Val Accuracy: 1.0\n"
     ]
    },
    {
     "name": "stderr",
     "output_type": "stream",
     "text": [
      "100%|██████████| 5/5 [00:00<00:00, 1667.05it/s]\n"
     ]
    },
    {
     "name": "stdout",
     "output_type": "stream",
     "text": [
      "Example target: [1. 0. 0.]\n",
      "Example prediction: [np.float64(0.9999), np.float64(0.0001), np.float64(0.0)]\n",
      "Epoch 36 Training Loss: 0.0933 Training Accuracy: 0.96 Val Loss: 0.0377 Val Accuracy: 1.0\n"
     ]
    },
    {
     "name": "stderr",
     "output_type": "stream",
     "text": [
      "100%|██████████| 5/5 [00:00<00:00, 1665.20it/s]\n"
     ]
    },
    {
     "name": "stdout",
     "output_type": "stream",
     "text": [
      "Example target: [1. 0. 0.]\n",
      "Example prediction: [np.float64(0.9984), np.float64(0.0016), np.float64(0.0)]\n",
      "Epoch 37 Training Loss: 0.0727 Training Accuracy: 0.968 Val Loss: 0.0082 Val Accuracy: 1.0\n"
     ]
    },
    {
     "name": "stderr",
     "output_type": "stream",
     "text": [
      "100%|██████████| 5/5 [00:00<00:00, 2499.59it/s]\n"
     ]
    },
    {
     "name": "stdout",
     "output_type": "stream",
     "text": [
      "Example target: [0. 0. 1.]\n",
      "Example prediction: [np.float64(0.0), np.float64(0.0098), np.float64(0.9902)]\n",
      "Epoch 38 Training Loss: 0.15 Training Accuracy: 0.944 Val Loss: 0.0147 Val Accuracy: 1.0\n"
     ]
    },
    {
     "name": "stderr",
     "output_type": "stream",
     "text": [
      "100%|██████████| 5/5 [00:00<00:00, 2498.10it/s]\n"
     ]
    },
    {
     "name": "stdout",
     "output_type": "stream",
     "text": [
      "Example target: [0. 0. 1.]\n",
      "Example prediction: [np.float64(0.0002), np.float64(0.9062), np.float64(0.0936)]\n",
      "Epoch 39 Training Loss: 0.0686 Training Accuracy: 0.984 Val Loss: 0.7067 Val Accuracy: 0.7333\n"
     ]
    },
    {
     "name": "stderr",
     "output_type": "stream",
     "text": [
      "100%|██████████| 5/5 [00:00<00:00, 4995.60it/s]\n"
     ]
    },
    {
     "name": "stdout",
     "output_type": "stream",
     "text": [
      "Example target: [1. 0. 0.]\n",
      "Example prediction: [np.float64(1.0), np.float64(0.0), np.float64(0.0)]\n",
      "Epoch 40 Training Loss: 0.41 Training Accuracy: 0.888 Val Loss: 0.0663 Val Accuracy: 1.0\n"
     ]
    },
    {
     "name": "stderr",
     "output_type": "stream",
     "text": [
      "100%|██████████| 5/5 [00:00<00:00, 2499.88it/s]\n"
     ]
    },
    {
     "name": "stdout",
     "output_type": "stream",
     "text": [
      "Example target: [0. 1. 0.]\n",
      "Example prediction: [np.float64(0.0016), np.float64(0.9972), np.float64(0.0012)]\n",
      "Epoch 41 Training Loss: 0.8346 Training Accuracy: 0.76 Val Loss: 0.3909 Val Accuracy: 0.8\n"
     ]
    },
    {
     "name": "stderr",
     "output_type": "stream",
     "text": [
      "100%|██████████| 5/5 [00:00<00:00, 2486.84it/s]\n"
     ]
    },
    {
     "name": "stdout",
     "output_type": "stream",
     "text": [
      "Example target: [1. 0. 0.]\n",
      "Example prediction: [np.float64(0.9992), np.float64(0.0008), np.float64(0.0)]\n",
      "Epoch 42 Training Loss: 0.3975 Training Accuracy: 0.872 Val Loss: 0.0899 Val Accuracy: 1.0\n"
     ]
    },
    {
     "name": "stderr",
     "output_type": "stream",
     "text": [
      "100%|██████████| 5/5 [00:00<00:00, 2499.59it/s]\n"
     ]
    },
    {
     "name": "stdout",
     "output_type": "stream",
     "text": [
      "Example target: [1. 0. 0.]\n",
      "Example prediction: [np.float64(0.9985), np.float64(0.0015), np.float64(0.0)]\n",
      "Epoch 43 Training Loss: 0.2779 Training Accuracy: 0.888 Val Loss: 0.0334 Val Accuracy: 1.0\n"
     ]
    },
    {
     "name": "stderr",
     "output_type": "stream",
     "text": [
      "100%|██████████| 5/5 [00:00<00:00, 5000.36it/s]\n"
     ]
    },
    {
     "name": "stdout",
     "output_type": "stream",
     "text": [
      "Example target: [0. 1. 0.]\n",
      "Example prediction: [np.float64(0.0002), np.float64(0.9997), np.float64(0.0001)]\n",
      "Epoch 44 Training Loss: 0.3485 Training Accuracy: 0.872 Val Loss: 1.2156 Val Accuracy: 0.7333\n"
     ]
    },
    {
     "name": "stderr",
     "output_type": "stream",
     "text": [
      "100%|██████████| 5/5 [00:00<00:00, 2498.10it/s]\n"
     ]
    },
    {
     "name": "stdout",
     "output_type": "stream",
     "text": [
      "Example target: [0. 0. 1.]\n",
      "Example prediction: [np.float64(0.0), np.float64(0.0044), np.float64(0.9956)]\n",
      "Epoch 45 Training Loss: 1.0067 Training Accuracy: 0.752 Val Loss: 0.1082 Val Accuracy: 1.0\n"
     ]
    },
    {
     "name": "stderr",
     "output_type": "stream",
     "text": [
      "100%|██████████| 5/5 [00:00<00:00, 2496.02it/s]\n"
     ]
    },
    {
     "name": "stdout",
     "output_type": "stream",
     "text": [
      "Example target: [1. 0. 0.]\n",
      "Example prediction: [np.float64(1.0), np.float64(0.0), np.float64(0.0)]\n",
      "Epoch 46 Training Loss: 0.3599 Training Accuracy: 0.8 Val Loss: 0.3458 Val Accuracy: 0.7333\n"
     ]
    },
    {
     "name": "stderr",
     "output_type": "stream",
     "text": [
      "100%|██████████| 5/5 [00:00<00:00, 2500.48it/s]\n"
     ]
    },
    {
     "name": "stdout",
     "output_type": "stream",
     "text": [
      "Example target: [1. 0. 0.]\n",
      "Example prediction: [np.float64(1.0), np.float64(0.0), np.float64(0.0)]\n",
      "Epoch 47 Training Loss: 0.2912 Training Accuracy: 0.84 Val Loss: 0.1642 Val Accuracy: 0.9333\n"
     ]
    },
    {
     "name": "stderr",
     "output_type": "stream",
     "text": [
      "100%|██████████| 5/5 [00:00<00:00, 2498.99it/s]\n"
     ]
    },
    {
     "name": "stdout",
     "output_type": "stream",
     "text": [
      "Example target: [1. 0. 0.]\n",
      "Example prediction: [np.float64(1.0), np.float64(0.0), np.float64(0.0)]\n",
      "Epoch 48 Training Loss: 0.1856 Training Accuracy: 0.928 Val Loss: 0.0718 Val Accuracy: 1.0\n"
     ]
    },
    {
     "name": "stderr",
     "output_type": "stream",
     "text": [
      "100%|██████████| 5/5 [00:00<00:00, 2500.48it/s]\n"
     ]
    },
    {
     "name": "stdout",
     "output_type": "stream",
     "text": [
      "Example target: [1. 0. 0.]\n",
      "Example prediction: [np.float64(1.0), np.float64(0.0), np.float64(0.0)]\n",
      "Epoch 49 Training Loss: 0.094 Training Accuracy: 0.976 Val Loss: 0.0142 Val Accuracy: 1.0\n"
     ]
    },
    {
     "name": "stderr",
     "output_type": "stream",
     "text": [
      "100%|██████████| 5/5 [00:00<00:00, 2499.88it/s]\n"
     ]
    },
    {
     "name": "stdout",
     "output_type": "stream",
     "text": [
      "Example target: [1. 0. 0.]\n",
      "Example prediction: [np.float64(1.0), np.float64(0.0), np.float64(0.0)]\n",
      "Epoch 50 Training Loss: 0.1514 Training Accuracy: 0.936 Val Loss: 0.2084 Val Accuracy: 0.9333\n"
     ]
    },
    {
     "name": "stderr",
     "output_type": "stream",
     "text": [
      "100%|██████████| 5/5 [00:00<00:00, 2501.37it/s]\n"
     ]
    },
    {
     "name": "stdout",
     "output_type": "stream",
     "text": [
      "Example target: [0. 0. 1.]\n",
      "Example prediction: [np.float64(0.0), np.float64(0.005), np.float64(0.995)]\n",
      "Epoch 51 Training Loss: 0.1289 Training Accuracy: 0.952 Val Loss: 0.0217 Val Accuracy: 1.0\n"
     ]
    },
    {
     "name": "stderr",
     "output_type": "stream",
     "text": [
      "100%|██████████| 5/5 [00:00<00:00, 1666.79it/s]\n"
     ]
    },
    {
     "name": "stdout",
     "output_type": "stream",
     "text": [
      "Example target: [0. 0. 1.]\n",
      "Example prediction: [np.float64(0.0007), np.float64(0.7499), np.float64(0.2494)]\n",
      "Epoch 52 Training Loss: 0.1106 Training Accuracy: 0.968 Val Loss: 0.5242 Val Accuracy: 0.8\n"
     ]
    },
    {
     "name": "stderr",
     "output_type": "stream",
     "text": [
      "100%|██████████| 5/5 [00:00<00:00, 2497.50it/s]\n"
     ]
    },
    {
     "name": "stdout",
     "output_type": "stream",
     "text": [
      "Example target: [1. 0. 0.]\n",
      "Example prediction: [np.float64(1.0), np.float64(0.0), np.float64(0.0)]\n",
      "Epoch 53 Training Loss: 0.5426 Training Accuracy: 0.792 Val Loss: 0.0365 Val Accuracy: 1.0\n"
     ]
    },
    {
     "name": "stderr",
     "output_type": "stream",
     "text": [
      "100%|██████████| 5/5 [00:00<00:00, 4999.17it/s]\n"
     ]
    },
    {
     "name": "stdout",
     "output_type": "stream",
     "text": [
      "Example target: [0. 0. 1.]\n",
      "Example prediction: [np.float64(0.0022), np.float64(0.3019), np.float64(0.6959)]\n",
      "Epoch 54 Training Loss: 0.2487 Training Accuracy: 0.912 Val Loss: 0.0666 Val Accuracy: 1.0\n"
     ]
    },
    {
     "name": "stderr",
     "output_type": "stream",
     "text": [
      "100%|██████████| 5/5 [00:00<00:00, 2499.88it/s]\n"
     ]
    },
    {
     "name": "stdout",
     "output_type": "stream",
     "text": [
      "Example target: [0. 0. 1.]\n",
      "Example prediction: [np.float64(0.0017), np.float64(0.2854), np.float64(0.7129)]\n",
      "Epoch 55 Training Loss: 0.0875 Training Accuracy: 0.984 Val Loss: 0.3738 Val Accuracy: 0.8667\n"
     ]
    },
    {
     "name": "stderr",
     "output_type": "stream",
     "text": [
      "100%|██████████| 5/5 [00:00<00:00, 2498.99it/s]\n"
     ]
    },
    {
     "name": "stdout",
     "output_type": "stream",
     "text": [
      "Example target: [0. 1. 0.]\n",
      "Example prediction: [np.float64(0.0094), np.float64(0.8186), np.float64(0.172)]\n",
      "Epoch 56 Training Loss: 0.2481 Training Accuracy: 0.92 Val Loss: 0.0394 Val Accuracy: 1.0\n"
     ]
    },
    {
     "name": "stderr",
     "output_type": "stream",
     "text": [
      "100%|██████████| 5/5 [00:00<00:00, 2498.39it/s]\n"
     ]
    },
    {
     "name": "stdout",
     "output_type": "stream",
     "text": [
      "Example target: [1. 0. 0.]\n",
      "Example prediction: [np.float64(1.0), np.float64(0.0), np.float64(0.0)]\n",
      "Epoch 57 Training Loss: 0.296 Training Accuracy: 0.888 Val Loss: 0.0865 Val Accuracy: 0.9333\n"
     ]
    },
    {
     "name": "stderr",
     "output_type": "stream",
     "text": [
      "100%|██████████| 5/5 [00:00<00:00, 2498.99it/s]\n"
     ]
    },
    {
     "name": "stdout",
     "output_type": "stream",
     "text": [
      "Example target: [0. 1. 0.]\n",
      "Example prediction: [np.float64(0.0122), np.float64(0.9438), np.float64(0.044)]\n",
      "Epoch 58 Training Loss: 0.1988 Training Accuracy: 0.952 Val Loss: 0.1384 Val Accuracy: 0.9333\n"
     ]
    },
    {
     "name": "stderr",
     "output_type": "stream",
     "text": [
      "100%|██████████| 5/5 [00:00<00:00, 2498.39it/s]\n"
     ]
    },
    {
     "name": "stdout",
     "output_type": "stream",
     "text": [
      "Example target: [1. 0. 0.]\n",
      "Example prediction: [np.float64(0.9999), np.float64(0.0001), np.float64(0.0)]\n",
      "Epoch 59 Training Loss: 0.1493 Training Accuracy: 0.928 Val Loss: 0.0093 Val Accuracy: 1.0\n"
     ]
    },
    {
     "name": "stderr",
     "output_type": "stream",
     "text": [
      "100%|██████████| 5/5 [00:00<00:00, 2498.10it/s]\n"
     ]
    },
    {
     "name": "stdout",
     "output_type": "stream",
     "text": [
      "Example target: [1. 0. 0.]\n",
      "Example prediction: [np.float64(0.9999), np.float64(0.0001), np.float64(0.0)]\n",
      "Epoch 60 Training Loss: 0.2032 Training Accuracy: 0.912 Val Loss: 0.0087 Val Accuracy: 1.0\n"
     ]
    },
    {
     "name": "stderr",
     "output_type": "stream",
     "text": [
      "100%|██████████| 5/5 [00:00<00:00, 2499.59it/s]\n"
     ]
    },
    {
     "name": "stdout",
     "output_type": "stream",
     "text": [
      "Example target: [0. 0. 1.]\n",
      "Example prediction: [np.float64(0.0), np.float64(0.0028), np.float64(0.9972)]\n",
      "Epoch 61 Training Loss: 0.1367 Training Accuracy: 0.96 Val Loss: 0.0294 Val Accuracy: 1.0\n"
     ]
    },
    {
     "name": "stderr",
     "output_type": "stream",
     "text": [
      "100%|██████████| 5/5 [00:00<00:00, 2499.29it/s]\n"
     ]
    },
    {
     "name": "stdout",
     "output_type": "stream",
     "text": [
      "Example target: [0. 0. 1.]\n",
      "Example prediction: [np.float64(0.0001), np.float64(0.4031), np.float64(0.5967)]\n",
      "Epoch 62 Training Loss: 0.0443 Training Accuracy: 0.984 Val Loss: 0.0418 Val Accuracy: 1.0\n"
     ]
    },
    {
     "name": "stderr",
     "output_type": "stream",
     "text": [
      "100%|██████████| 5/5 [00:00<00:00, 5006.33it/s]\n"
     ]
    },
    {
     "name": "stdout",
     "output_type": "stream",
     "text": [
      "Example target: [1. 0. 0.]\n",
      "Example prediction: [np.float64(1.0), np.float64(0.0), np.float64(0.0)]\n",
      "Epoch 63 Training Loss: 0.1483 Training Accuracy: 0.912 Val Loss: 0.0976 Val Accuracy: 0.9333\n"
     ]
    },
    {
     "name": "stderr",
     "output_type": "stream",
     "text": [
      "100%|██████████| 5/5 [00:00<00:00, 2498.39it/s]\n"
     ]
    },
    {
     "name": "stdout",
     "output_type": "stream",
     "text": [
      "Example target: [1. 0. 0.]\n",
      "Example prediction: [np.float64(0.9996), np.float64(0.0004), np.float64(0.0)]\n",
      "Epoch 64 Training Loss: 0.3694 Training Accuracy: 0.904 Val Loss: 0.0027 Val Accuracy: 1.0\n"
     ]
    },
    {
     "name": "stderr",
     "output_type": "stream",
     "text": [
      "100%|██████████| 5/5 [00:00<00:00, 2500.18it/s]\n"
     ]
    },
    {
     "name": "stdout",
     "output_type": "stream",
     "text": [
      "Example target: [0. 0. 1.]\n",
      "Example prediction: [np.float64(0.0), np.float64(0.0), np.float64(1.0)]\n",
      "Epoch 65 Training Loss: 0.1034 Training Accuracy: 0.968 Val Loss: 0.003 Val Accuracy: 1.0\n"
     ]
    },
    {
     "name": "stderr",
     "output_type": "stream",
     "text": [
      "100%|██████████| 5/5 [00:00<00:00, 5000.36it/s]\n"
     ]
    },
    {
     "name": "stdout",
     "output_type": "stream",
     "text": [
      "Example target: [1. 0. 0.]\n",
      "Example prediction: [np.float64(1.0), np.float64(0.0), np.float64(0.0)]\n",
      "Epoch 66 Training Loss: 0.3262 Training Accuracy: 0.904 Val Loss: 0.6586 Val Accuracy: 0.7333\n"
     ]
    },
    {
     "name": "stderr",
     "output_type": "stream",
     "text": [
      "100%|██████████| 5/5 [00:00<00:00, 2501.37it/s]\n"
     ]
    },
    {
     "name": "stdout",
     "output_type": "stream",
     "text": [
      "Example target: [0. 1. 0.]\n",
      "Example prediction: [np.float64(0.0035), np.float64(0.9795), np.float64(0.0169)]\n",
      "Epoch 67 Training Loss: 0.6099 Training Accuracy: 0.776 Val Loss: 0.0099 Val Accuracy: 1.0\n"
     ]
    },
    {
     "name": "stderr",
     "output_type": "stream",
     "text": [
      "100%|██████████| 5/5 [00:00<00:00, 4997.98it/s]\n"
     ]
    },
    {
     "name": "stdout",
     "output_type": "stream",
     "text": [
      "Example target: [0. 0. 1.]\n",
      "Example prediction: [np.float64(0.0056), np.float64(0.7673), np.float64(0.227)]\n",
      "Epoch 68 Training Loss: 0.2379 Training Accuracy: 0.92 Val Loss: 0.1787 Val Accuracy: 0.9333\n"
     ]
    },
    {
     "name": "stderr",
     "output_type": "stream",
     "text": [
      "100%|██████████| 5/5 [00:00<00:00, 2498.39it/s]\n"
     ]
    },
    {
     "name": "stdout",
     "output_type": "stream",
     "text": [
      "Example target: [0. 0. 1.]\n",
      "Example prediction: [np.float64(0.0), np.float64(0.0005), np.float64(0.9995)]\n",
      "Epoch 69 Training Loss: 0.1077 Training Accuracy: 0.976 Val Loss: 0.0123 Val Accuracy: 1.0\n"
     ]
    },
    {
     "name": "stderr",
     "output_type": "stream",
     "text": [
      "100%|██████████| 5/5 [00:00<00:00, 2496.61it/s]\n"
     ]
    },
    {
     "name": "stdout",
     "output_type": "stream",
     "text": [
      "Example target: [1. 0. 0.]\n",
      "Example prediction: [np.float64(0.997), np.float64(0.003), np.float64(0.0)]\n",
      "Epoch 70 Training Loss: 0.1164 Training Accuracy: 0.952 Val Loss: 0.2108 Val Accuracy: 0.9333\n"
     ]
    },
    {
     "name": "stderr",
     "output_type": "stream",
     "text": [
      "100%|██████████| 5/5 [00:00<00:00, 2496.91it/s]\n"
     ]
    },
    {
     "name": "stdout",
     "output_type": "stream",
     "text": [
      "Example target: [0. 0. 1.]\n",
      "Example prediction: [np.float64(0.0), np.float64(0.0112), np.float64(0.9888)]\n",
      "Epoch 71 Training Loss: 0.1794 Training Accuracy: 0.888 Val Loss: 0.0111 Val Accuracy: 1.0\n"
     ]
    },
    {
     "name": "stderr",
     "output_type": "stream",
     "text": [
      "100%|██████████| 5/5 [00:00<00:00, 2499.59it/s]\n"
     ]
    },
    {
     "name": "stdout",
     "output_type": "stream",
     "text": [
      "Example target: [0. 1. 0.]\n",
      "Example prediction: [np.float64(0.0012), np.float64(0.9895), np.float64(0.0093)]\n",
      "Epoch 72 Training Loss: 0.1086 Training Accuracy: 0.944 Val Loss: 0.0055 Val Accuracy: 1.0\n"
     ]
    },
    {
     "name": "stderr",
     "output_type": "stream",
     "text": [
      "100%|██████████| 5/5 [00:00<00:00, 2500.78it/s]\n"
     ]
    },
    {
     "name": "stdout",
     "output_type": "stream",
     "text": [
      "Example target: [0. 1. 0.]\n",
      "Example prediction: [np.float64(0.0167), np.float64(0.9764), np.float64(0.0069)]\n",
      "Epoch 73 Training Loss: 0.1507 Training Accuracy: 0.936 Val Loss: 0.0533 Val Accuracy: 1.0\n"
     ]
    },
    {
     "name": "stderr",
     "output_type": "stream",
     "text": [
      "100%|██████████| 5/5 [00:00<00:00, 5002.75it/s]\n"
     ]
    },
    {
     "name": "stdout",
     "output_type": "stream",
     "text": [
      "Example target: [1. 0. 0.]\n",
      "Example prediction: [np.float64(1.0), np.float64(0.0), np.float64(0.0)]\n",
      "Epoch 74 Training Loss: 0.1205 Training Accuracy: 0.944 Val Loss: 0.0285 Val Accuracy: 1.0\n"
     ]
    },
    {
     "name": "stderr",
     "output_type": "stream",
     "text": [
      "100%|██████████| 5/5 [00:00<00:00, 2498.39it/s]\n"
     ]
    },
    {
     "name": "stdout",
     "output_type": "stream",
     "text": [
      "Example target: [0. 0. 1.]\n",
      "Example prediction: [np.float64(0.0), np.float64(0.0969), np.float64(0.9031)]\n",
      "Epoch 75 Training Loss: 0.0764 Training Accuracy: 0.968 Val Loss: 0.0151 Val Accuracy: 1.0\n"
     ]
    },
    {
     "name": "stderr",
     "output_type": "stream",
     "text": [
      "100%|██████████| 5/5 [00:00<00:00, 2499.59it/s]\n"
     ]
    },
    {
     "name": "stdout",
     "output_type": "stream",
     "text": [
      "Example target: [0. 1. 0.]\n",
      "Example prediction: [np.float64(0.0014), np.float64(0.9974), np.float64(0.0011)]\n",
      "Epoch 76 Training Loss: 0.0565 Training Accuracy: 0.976 Val Loss: 0.011 Val Accuracy: 1.0\n"
     ]
    },
    {
     "name": "stderr",
     "output_type": "stream",
     "text": [
      "100%|██████████| 5/5 [00:00<00:00, 2499.59it/s]\n"
     ]
    },
    {
     "name": "stdout",
     "output_type": "stream",
     "text": [
      "Example target: [1. 0. 0.]\n",
      "Example prediction: [np.float64(0.9998), np.float64(0.0002), np.float64(0.0)]\n",
      "Epoch 77 Training Loss: 0.049 Training Accuracy: 0.984 Val Loss: 0.1233 Val Accuracy: 0.9333\n"
     ]
    },
    {
     "name": "stderr",
     "output_type": "stream",
     "text": [
      "100%|██████████| 5/5 [00:00<00:00, 2499.88it/s]\n"
     ]
    },
    {
     "name": "stdout",
     "output_type": "stream",
     "text": [
      "Example target: [1. 0. 0.]\n",
      "Example prediction: [np.float64(1.0), np.float64(0.0), np.float64(0.0)]\n",
      "Epoch 78 Training Loss: 0.0813 Training Accuracy: 0.976 Val Loss: 0.0024 Val Accuracy: 1.0\n"
     ]
    },
    {
     "name": "stderr",
     "output_type": "stream",
     "text": [
      "100%|██████████| 5/5 [00:00<00:00, 4939.12it/s]\n"
     ]
    },
    {
     "name": "stdout",
     "output_type": "stream",
     "text": [
      "Example target: [1. 0. 0.]\n",
      "Example prediction: [np.float64(1.0), np.float64(0.0), np.float64(0.0)]\n",
      "Epoch 79 Training Loss: 0.116 Training Accuracy: 0.936 Val Loss: 0.0041 Val Accuracy: 1.0\n"
     ]
    },
    {
     "name": "stderr",
     "output_type": "stream",
     "text": [
      "100%|██████████| 5/5 [00:00<00:00, 4997.98it/s]\n"
     ]
    },
    {
     "name": "stdout",
     "output_type": "stream",
     "text": [
      "Example target: [1. 0. 0.]\n",
      "Example prediction: [np.float64(1.0), np.float64(0.0), np.float64(0.0)]\n",
      "Epoch 80 Training Loss: 0.1154 Training Accuracy: 0.952 Val Loss: 0.0612 Val Accuracy: 0.9333\n"
     ]
    },
    {
     "name": "stderr",
     "output_type": "stream",
     "text": [
      "100%|██████████| 5/5 [00:00<00:00, 2501.97it/s]\n"
     ]
    },
    {
     "name": "stdout",
     "output_type": "stream",
     "text": [
      "Example target: [1. 0. 0.]\n",
      "Example prediction: [np.float64(1.0), np.float64(0.0), np.float64(0.0)]\n",
      "Epoch 81 Training Loss: 0.1061 Training Accuracy: 0.952 Val Loss: 0.0341 Val Accuracy: 1.0\n"
     ]
    },
    {
     "name": "stderr",
     "output_type": "stream",
     "text": [
      "100%|██████████| 5/5 [00:00<00:00, 2497.50it/s]\n"
     ]
    },
    {
     "name": "stdout",
     "output_type": "stream",
     "text": [
      "Example target: [0. 1. 0.]\n",
      "Example prediction: [np.float64(0.0034), np.float64(0.9802), np.float64(0.0165)]\n",
      "Epoch 82 Training Loss: 0.1769 Training Accuracy: 0.936 Val Loss: 0.0044 Val Accuracy: 1.0\n"
     ]
    },
    {
     "name": "stderr",
     "output_type": "stream",
     "text": [
      "100%|██████████| 5/5 [00:00<00:00, 2499.59it/s]\n"
     ]
    },
    {
     "name": "stdout",
     "output_type": "stream",
     "text": [
      "Example target: [0. 1. 0.]\n",
      "Example prediction: [np.float64(0.0016), np.float64(0.9588), np.float64(0.0397)]\n",
      "Epoch 83 Training Loss: 0.2019 Training Accuracy: 0.872 Val Loss: 0.0363 Val Accuracy: 1.0\n"
     ]
    },
    {
     "name": "stderr",
     "output_type": "stream",
     "text": [
      "100%|██████████| 5/5 [00:00<00:00, 2497.50it/s]\n"
     ]
    },
    {
     "name": "stdout",
     "output_type": "stream",
     "text": [
      "Example target: [0. 0. 1.]\n",
      "Example prediction: [np.float64(0.0003), np.float64(0.0378), np.float64(0.9619)]\n",
      "Epoch 84 Training Loss: 0.1286 Training Accuracy: 0.936 Val Loss: 0.1135 Val Accuracy: 0.9333\n"
     ]
    },
    {
     "name": "stderr",
     "output_type": "stream",
     "text": [
      "100%|██████████| 5/5 [00:00<00:00, 5001.55it/s]\n"
     ]
    },
    {
     "name": "stdout",
     "output_type": "stream",
     "text": [
      "Example target: [1. 0. 0.]\n",
      "Example prediction: [np.float64(1.0), np.float64(0.0), np.float64(0.0)]\n",
      "Epoch 85 Training Loss: 0.2275 Training Accuracy: 0.912 Val Loss: 0.0228 Val Accuracy: 1.0\n"
     ]
    },
    {
     "name": "stderr",
     "output_type": "stream",
     "text": [
      "100%|██████████| 5/5 [00:00<00:00, 2500.18it/s]\n"
     ]
    },
    {
     "name": "stdout",
     "output_type": "stream",
     "text": [
      "Example target: [1. 0. 0.]\n",
      "Example prediction: [np.float64(1.0), np.float64(0.0), np.float64(0.0)]\n",
      "Epoch 86 Training Loss: 0.3307 Training Accuracy: 0.848 Val Loss: 0.2711 Val Accuracy: 0.9333\n"
     ]
    },
    {
     "name": "stderr",
     "output_type": "stream",
     "text": [
      "100%|██████████| 5/5 [00:00<00:00, 4996.79it/s]\n"
     ]
    },
    {
     "name": "stdout",
     "output_type": "stream",
     "text": [
      "Example target: [1. 0. 0.]\n",
      "Example prediction: [np.float64(0.9994), np.float64(0.0006), np.float64(0.0)]\n",
      "Epoch 87 Training Loss: 0.189 Training Accuracy: 0.936 Val Loss: 0.0066 Val Accuracy: 1.0\n"
     ]
    },
    {
     "name": "stderr",
     "output_type": "stream",
     "text": [
      "100%|██████████| 5/5 [00:00<00:00, 4995.60it/s]\n"
     ]
    },
    {
     "name": "stdout",
     "output_type": "stream",
     "text": [
      "Example target: [1. 0. 0.]\n",
      "Example prediction: [np.float64(0.9982), np.float64(0.0018), np.float64(0.0)]\n",
      "Epoch 88 Training Loss: 0.3157 Training Accuracy: 0.896 Val Loss: 0.1095 Val Accuracy: 0.9333\n"
     ]
    },
    {
     "name": "stderr",
     "output_type": "stream",
     "text": [
      "100%|██████████| 5/5 [00:00<00:00, 2498.99it/s]\n"
     ]
    },
    {
     "name": "stdout",
     "output_type": "stream",
     "text": [
      "Example target: [1. 0. 0.]\n",
      "Example prediction: [np.float64(1.0), np.float64(0.0), np.float64(0.0)]\n",
      "Epoch 89 Training Loss: 0.1623 Training Accuracy: 0.936 Val Loss: 0.0065 Val Accuracy: 1.0\n"
     ]
    },
    {
     "name": "stderr",
     "output_type": "stream",
     "text": [
      "100%|██████████| 5/5 [00:00<00:00, 2498.69it/s]\n"
     ]
    },
    {
     "name": "stdout",
     "output_type": "stream",
     "text": [
      "Example target: [1. 0. 0.]\n",
      "Example prediction: [np.float64(0.9961), np.float64(0.0039), np.float64(0.0)]\n",
      "Epoch 90 Training Loss: 0.0583 Training Accuracy: 0.976 Val Loss: 0.0217 Val Accuracy: 1.0\n"
     ]
    },
    {
     "name": "stderr",
     "output_type": "stream",
     "text": [
      "100%|██████████| 5/5 [00:00<00:00, 2343.71it/s]\n"
     ]
    },
    {
     "name": "stdout",
     "output_type": "stream",
     "text": [
      "Example target: [0. 1. 0.]\n",
      "Example prediction: [np.float64(0.0057), np.float64(0.9797), np.float64(0.0145)]\n",
      "Epoch 91 Training Loss: 0.0618 Training Accuracy: 0.984 Val Loss: 0.0181 Val Accuracy: 1.0\n"
     ]
    },
    {
     "name": "stderr",
     "output_type": "stream",
     "text": [
      "100%|██████████| 5/5 [00:00<00:00, 3319.33it/s]\n"
     ]
    },
    {
     "name": "stdout",
     "output_type": "stream",
     "text": [
      "Example target: [1. 0. 0.]\n",
      "Example prediction: [np.float64(1.0), np.float64(0.0), np.float64(0.0)]\n",
      "Epoch 92 Training Loss: 0.0539 Training Accuracy: 0.984 Val Loss: 0.0173 Val Accuracy: 1.0\n"
     ]
    },
    {
     "name": "stderr",
     "output_type": "stream",
     "text": [
      "100%|██████████| 5/5 [00:00<00:00, 4997.98it/s]\n"
     ]
    },
    {
     "name": "stdout",
     "output_type": "stream",
     "text": [
      "Example target: [1. 0. 0.]\n",
      "Example prediction: [np.float64(1.0), np.float64(0.0), np.float64(0.0)]\n",
      "Epoch 93 Training Loss: 0.1025 Training Accuracy: 0.944 Val Loss: 0.0058 Val Accuracy: 1.0\n"
     ]
    },
    {
     "name": "stderr",
     "output_type": "stream",
     "text": [
      "100%|██████████| 5/5 [00:00<00:00, 2499.29it/s]\n"
     ]
    },
    {
     "name": "stdout",
     "output_type": "stream",
     "text": [
      "Example target: [1. 0. 0.]\n",
      "Example prediction: [np.float64(1.0), np.float64(0.0), np.float64(0.0)]\n",
      "Epoch 94 Training Loss: 0.0654 Training Accuracy: 0.976 Val Loss: 0.1765 Val Accuracy: 0.9333\n"
     ]
    },
    {
     "name": "stderr",
     "output_type": "stream",
     "text": [
      "100%|██████████| 5/5 [00:00<00:00, 2499.59it/s]\n"
     ]
    },
    {
     "name": "stdout",
     "output_type": "stream",
     "text": [
      "Example target: [0. 1. 0.]\n",
      "Example prediction: [np.float64(0.0005), np.float64(0.9831), np.float64(0.0164)]\n",
      "Epoch 95 Training Loss: 0.1469 Training Accuracy: 0.936 Val Loss: 0.0056 Val Accuracy: 1.0\n"
     ]
    },
    {
     "name": "stderr",
     "output_type": "stream",
     "text": [
      "100%|██████████| 5/5 [00:00<00:00, 2497.80it/s]\n"
     ]
    },
    {
     "name": "stdout",
     "output_type": "stream",
     "text": [
      "Example target: [1. 0. 0.]\n",
      "Example prediction: [np.float64(1.0), np.float64(0.0), np.float64(0.0)]\n",
      "Epoch 96 Training Loss: 0.158 Training Accuracy: 0.952 Val Loss: 0.0325 Val Accuracy: 1.0\n"
     ]
    },
    {
     "name": "stderr",
     "output_type": "stream",
     "text": [
      "100%|██████████| 5/5 [00:00<00:00, 2498.99it/s]\n"
     ]
    },
    {
     "name": "stdout",
     "output_type": "stream",
     "text": [
      "Example target: [1. 0. 0.]\n",
      "Example prediction: [np.float64(1.0), np.float64(0.0), np.float64(0.0)]\n",
      "Epoch 97 Training Loss: 0.0572 Training Accuracy: 0.976 Val Loss: 0.0059 Val Accuracy: 1.0\n"
     ]
    },
    {
     "name": "stderr",
     "output_type": "stream",
     "text": [
      "100%|██████████| 5/5 [00:00<00:00, 2499.59it/s]\n"
     ]
    },
    {
     "name": "stdout",
     "output_type": "stream",
     "text": [
      "Example target: [0. 0. 1.]\n",
      "Example prediction: [np.float64(0.0), np.float64(0.0031), np.float64(0.9969)]\n",
      "Epoch 98 Training Loss: 0.0442 Training Accuracy: 0.984 Val Loss: 0.0194 Val Accuracy: 1.0\n"
     ]
    },
    {
     "name": "stderr",
     "output_type": "stream",
     "text": [
      "100%|██████████| 5/5 [00:00<00:00, 2498.10it/s]\n"
     ]
    },
    {
     "name": "stdout",
     "output_type": "stream",
     "text": [
      "Example target: [1. 0. 0.]\n",
      "Example prediction: [np.float64(0.9999), np.float64(0.0001), np.float64(0.0)]\n",
      "Epoch 99 Training Loss: 0.0629 Training Accuracy: 0.968 Val Loss: 0.0735 Val Accuracy: 0.9333\n",
      "Test Loss: 0.1998 Test Accuracy: 0.9\n"
     ]
    },
    {
     "data": {
      "text/plain": [
       "{'loss': [np.float64(0.032458699561722204), np.float64(0.3672007136723545)],\n",
       " 'error': [np.float64(0.0), np.float64(0.2)]}"
      ]
     },
     "execution_count": 5,
     "metadata": {},
     "output_type": "execute_result"
    }
   ],
   "source": [
    "\n",
    "\"\"\"\n",
    "Step 1: Define layer arguments\n",
    "\n",
    "- Define the arguments for each layer in an attribute dictionary (AttrDict).\n",
    "- An attribute dictionary is exactly like a dictionary, except you can access the values as attributes rather than keys...for cleaner code :)\n",
    "- See layers.py for the arguments expected by each layer type.\n",
    "\"\"\"\n",
    "\n",
    "from neural_networks.utils import AttrDict\n",
    "\n",
    "fc1 = AttrDict(\n",
    "    {\n",
    "        \"name\": \"fully_connected\",\n",
    "        \"activation\": \"relu\",\n",
    "        \"weight_init\": \"xavier_uniform\",\n",
    "        \"n_out\": 50,\n",
    "    }\n",
    ")\n",
    "\n",
    "fc_out = AttrDict(\n",
    "    {\n",
    "        \"name\": \"fully_connected\",\n",
    "        \"activation\": \"softmax\",  # Softmax for last layer for classification\n",
    "        \"weight_init\": \"xavier_uniform\",\n",
    "        \"n_out\": None\n",
    "        # n_out is not defined for last layer. This will be set by the dataset.\n",
    "    }\n",
    ")\n",
    "\n",
    "\"\"\"\n",
    "Step 2: Collect layer argument dictionaries into a list.\n",
    "\n",
    "- This defines the order of layers in the network.\n",
    "\"\"\"\n",
    "\n",
    "layer_args = [fc1, fc_out]\n",
    "\n",
    "\"\"\"\n",
    "Step 3: Define model, data, and logger arguments\n",
    "\n",
    "- The list of layer_args is passed to the model initializer.\n",
    "\"\"\"\n",
    "\n",
    "optimizer_args = AttrDict(\n",
    "    {\n",
    "        \"name\": \"SGD\",\n",
    "        \"lr\": 0.1,\n",
    "        \"lr_scheduler\": \"constant\",\n",
    "        \"lr_decay\": 0.99,\n",
    "        \"stage_length\": 1000,\n",
    "        \"staircase\": True,\n",
    "        \"clip_norm\": 1.0,\n",
    "        \"momentum\": 0.9,\n",
    "    }\n",
    ")\n",
    "\n",
    "model_args = AttrDict(\n",
    "    {\n",
    "        \"name\": \"feed_forward\",\n",
    "        \"loss\": \"cross_entropy\",\n",
    "        \"layer_args\": layer_args,\n",
    "        \"optimizer_args\": optimizer_args,\n",
    "        \"seed\": 0,\n",
    "    }\n",
    ")\n",
    "\n",
    "data_args = AttrDict(\n",
    "    {\n",
    "        \"name\": \"iris\",\n",
    "        \"batch_size\": 25,\n",
    "    }\n",
    ")\n",
    "\n",
    "log_args = AttrDict(\n",
    "    {\"save\": True, \"plot\": True, \"save_dir\": \"experiments/\",}\n",
    ")\n",
    "\n",
    "\"\"\"\n",
    "Step 4: Set random seed\n",
    "\n",
    "Warning! Random seed must be set before importing other modules.\n",
    "\"\"\"\n",
    "\n",
    "import numpy as np\n",
    "\n",
    "np.random.seed(model_args.seed)\n",
    "\n",
    "\"\"\"\n",
    "Step 5: Define model name for saving\n",
    "\"\"\"\n",
    "\n",
    "model_name = \"{}_{}layers_{}-lr{}_mom{}_seed{}\".format(\n",
    "    model_args.name,\n",
    "    len(layer_args),\n",
    "    fc1[\"n_out\"],\n",
    "    optimizer_args.lr,\n",
    "    optimizer_args.momentum,\n",
    "    model_args.seed,\n",
    ")\n",
    "\n",
    "\"\"\"\n",
    "Step 6: Initialize logger, model, and dataset\n",
    "\n",
    "- model_name, model_args, and data_args are passed to the logger for saving\n",
    "- The logger is passed to the model.\n",
    "\"\"\"\n",
    "\n",
    "from neural_networks.models import initialize_model\n",
    "from neural_networks.datasets import initialize_dataset\n",
    "from neural_networks.logs import Logger\n",
    "\n",
    "\n",
    "logger = Logger(\n",
    "    model_name=model_name,\n",
    "    model_args=model_args,\n",
    "    data_args=data_args,\n",
    "    save=log_args.save,\n",
    "    plot=log_args.plot,\n",
    "    save_dir=log_args.save_dir,\n",
    ")\n",
    "\n",
    "\n",
    "model = initialize_model(\n",
    "    name=model_args.name,\n",
    "    loss=model_args.loss,\n",
    "    layer_args=model_args.layer_args,\n",
    "    optimizer_args=model_args.optimizer_args,\n",
    "    logger=logger,\n",
    ")\n",
    "\n",
    "\n",
    "dataset = initialize_dataset(\n",
    "    name=data_args.name,\n",
    "    batch_size=data_args.batch_size,\n",
    ")\n",
    "\n",
    "\n",
    "\"\"\"\n",
    "Step 7: Train model!\n",
    "\"\"\"\n",
    "\n",
    "epochs = 100\n",
    "\n",
    "print(\n",
    "    \"Training {} neural network on {} with {} for {} epochs...\".format(\n",
    "        model_args.name, data_args.name, optimizer_args.name, epochs\n",
    "    )\n",
    ")\n",
    "\n",
    "print(\"Optimizer:\")\n",
    "print(optimizer_args)\n",
    "\n",
    "model.train(dataset, epochs=epochs)\n",
    "model.test(dataset)\n"
   ]
  },
  {
   "cell_type": "code",
   "execution_count": null,
   "id": "e9d7f445",
   "metadata": {},
   "outputs": [],
   "source": [
    "\n",
    "\"\"\"\n",
    "Step 1: Define layer arguments\n",
    "\n",
    "- Define the arguments for each layer in an attribute dictionary (AttrDict).\n",
    "- An attribute dictionary is exactly like a dictionary, except you can access the values as attributes rather than keys...for cleaner code :)\n",
    "- See layers.py for the arguments expected by each layer type.\n",
    "\"\"\"\n",
    "\n",
    "from neural_networks.utils import AttrDict\n",
    "\n",
    "fc1 = AttrDict(\n",
    "    {\n",
    "        \"name\": \"fully_connected\",\n",
    "        \"activation\": \"relu\",\n",
    "        \"weight_init\": \"xavier_uniform\",\n",
    "        \"n_out\": 10,\n",
    "    }\n",
    ")\n",
    "\n",
    "fc_out = AttrDict(\n",
    "    {\n",
    "        \"name\": \"fully_connected\",\n",
    "        \"activation\": \"softmax\",  # Softmax for last layer for classification\n",
    "        \"weight_init\": \"xavier_uniform\",\n",
    "        \"n_out\": None\n",
    "        # n_out is not defined for last layer. This will be set by the dataset.\n",
    "    }\n",
    ")\n",
    "\n",
    "\"\"\"\n",
    "Step 2: Collect layer argument dictionaries into a list.\n",
    "\n",
    "- This defines the order of layers in the network.\n",
    "\"\"\"\n",
    "\n",
    "layer_args = [fc1, fc_out]\n",
    "\n",
    "\"\"\"\n",
    "Step 3: Define model, data, and logger arguments\n",
    "\n",
    "- The list of layer_args is passed to the model initializer.\n",
    "\"\"\"\n",
    "\n",
    "optimizer_args = AttrDict(\n",
    "    {\n",
    "        \"name\": \"SGD\",\n",
    "        \"lr\": 0.001,\n",
    "        \"lr_scheduler\": \"constant\",\n",
    "        \"lr_decay\": 0.99,\n",
    "        \"stage_length\": 1000,\n",
    "        \"staircase\": True,\n",
    "        \"clip_norm\": 1.0,\n",
    "        \"momentum\": 0.9,\n",
    "    }\n",
    ")\n",
    "\n",
    "model_args = AttrDict(\n",
    "    {\n",
    "        \"name\": \"feed_forward\",\n",
    "        \"loss\": \"cross_entropy\",\n",
    "        \"layer_args\": layer_args,\n",
    "        \"optimizer_args\": optimizer_args,\n",
    "        \"seed\": 0,\n",
    "    }\n",
    ")\n",
    "\n",
    "data_args = AttrDict(\n",
    "    {\n",
    "        \"name\": \"iris\",\n",
    "        \"batch_size\": 25,\n",
    "    }\n",
    ")\n",
    "\n",
    "log_args = AttrDict(\n",
    "    {\"save\": True, \"plot\": True, \"save_dir\": \"experiments/\",}\n",
    ")\n",
    "\n",
    "\"\"\"\n",
    "Step 4: Set random seed\n",
    "\n",
    "Warning! Random seed must be set before importing other modules.\n",
    "\"\"\"\n",
    "\n",
    "import numpy as np\n",
    "\n",
    "np.random.seed(model_args.seed)\n",
    "\n",
    "\"\"\"\n",
    "Step 5: Define model name for saving\n",
    "\"\"\"\n",
    "\n",
    "model_name = \"{}_{}layers_{}-lr{}_mom{}_seed{}\".format(\n",
    "    model_args.name,\n",
    "    len(layer_args),\n",
    "    fc1[\"n_out\"],\n",
    "    optimizer_args.lr,\n",
    "    optimizer_args.momentum,\n",
    "    model_args.seed,\n",
    ")\n",
    "\n",
    "\"\"\"\n",
    "Step 6: Initialize logger, model, and dataset\n",
    "\n",
    "- model_name, model_args, and data_args are passed to the logger for saving\n",
    "- The logger is passed to the model.\n",
    "\"\"\"\n",
    "\n",
    "from neural_networks.models import initialize_model\n",
    "from neural_networks.datasets import initialize_dataset\n",
    "from neural_networks.logs import Logger\n",
    "\n",
    "\n",
    "logger = Logger(\n",
    "    model_name=model_name,\n",
    "    model_args=model_args,\n",
    "    data_args=data_args,\n",
    "    save=log_args.save,\n",
    "    plot=log_args.plot,\n",
    "    save_dir=log_args.save_dir,\n",
    ")\n",
    "\n",
    "\n",
    "model = initialize_model(\n",
    "    name=model_args.name,\n",
    "    loss=model_args.loss,\n",
    "    layer_args=model_args.layer_args,\n",
    "    optimizer_args=model_args.optimizer_args,\n",
    "    logger=logger,\n",
    ")\n",
    "\n",
    "\n",
    "dataset = initialize_dataset(\n",
    "    name=data_args.name,\n",
    "    batch_size=data_args.batch_size,\n",
    ")\n",
    "\n"
   ]
  },
  {
   "cell_type": "code",
   "execution_count": null,
   "id": "93825acc",
   "metadata": {},
   "outputs": [],
   "source": []
  }
 ],
 "metadata": {
  "kernelspec": {
   "display_name": "Python 3",
   "language": "python",
   "name": "python3"
  },
  "language_info": {
   "codemirror_mode": {
    "name": "ipython",
    "version": 3
   },
   "file_extension": ".py",
   "mimetype": "text/x-python",
   "name": "python",
   "nbconvert_exporter": "python",
   "pygments_lexer": "ipython3",
   "version": "3.11.9"
  }
 },
 "nbformat": 4,
 "nbformat_minor": 5
}
