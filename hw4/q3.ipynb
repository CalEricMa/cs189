{
 "cells": [
  {
   "cell_type": "code",
   "execution_count": 10,
   "metadata": {},
   "outputs": [
    {
     "name": "stdout",
     "output_type": "stream",
     "text": [
      "s_0:  [0.9478 0.8808 0.8022 0.525 ]\n",
      "w_1:  [ 1.3247  3.0499 -6.8291]\n",
      "s_1:  [0.9474 0.9746 0.0312 0.1044]\n",
      "w_2:  [ 1.366   4.1575 -9.1996]\n"
     ]
    }
   ],
   "source": [
    "import numpy as np\n",
    "\n",
    "np.set_printoptions(precision=4)\n",
    "\n",
    "def sigmoid(z):\n",
    "    return 1 / (1 + np.exp(-z))\n",
    "\n",
    "x = np.array([\n",
    "    [0.2,  3.1, 1],\n",
    "    [1,  3, 1],\n",
    "    [-0.2,  1.2, 1],\n",
    "    [1,  1.1, 1]\n",
    "])\n",
    "\n",
    "y = np.array([1, 1, 0, 0])\n",
    "w = np.array([-1, 1, 0])\n",
    "\n",
    "s = sigmoid(x@w)\n",
    "gradient = x.T @(s-y)\n",
    "hessian = x.T @ np.diag(s*(1-s)) @ x\n",
    "\n",
    "print(\"s_0: \", s)\n",
    "\n",
    "w_1 = w - np.linalg.inv(hessian) @ gradient\n",
    "s_1 = sigmoid(x@w_1)\n",
    "print(\"w_1: \", w_1)\n",
    "print(\"s_1: \", s_1)\n",
    "\n",
    "\n",
    "gradient = x.T @(s_1-y)\n",
    "hessian = x.T @ np.diag(s_1*(1-s_1)) @ x\n",
    "w_2 = w_1 - np.linalg.inv(hessian) @ gradient\n",
    "print(\"w_2: \", w_2)\n"
   ]
  },
  {
   "cell_type": "code",
   "execution_count": null,
   "metadata": {},
   "outputs": [],
   "source": []
  }
 ],
 "metadata": {
  "kernelspec": {
   "display_name": "Python 3",
   "language": "python",
   "name": "python3"
  },
  "language_info": {
   "codemirror_mode": {
    "name": "ipython",
    "version": 3
   },
   "file_extension": ".py",
   "mimetype": "text/x-python",
   "name": "python",
   "nbconvert_exporter": "python",
   "pygments_lexer": "ipython3",
   "version": "3.12.6"
  }
 },
 "nbformat": 4,
 "nbformat_minor": 2
}
